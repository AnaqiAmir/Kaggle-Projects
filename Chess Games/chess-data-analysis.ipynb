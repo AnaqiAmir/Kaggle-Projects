{
 "cells": [
  {
   "cell_type": "markdown",
   "id": "6a2aea85",
   "metadata": {
    "papermill": {
     "duration": 0.029023,
     "end_time": "2023-07-06T20:17:55.709056",
     "exception": false,
     "start_time": "2023-07-06T20:17:55.680033",
     "status": "completed"
    },
    "tags": []
   },
   "source": [
    "# Chess Data Set\n",
    "\n",
    "In this notebook, I will be exploring the chess data set. This is not really a serious project but rather me just testing and exploring data analysis on a cool sport that I like.\n",
    "\n",
    "# Imports"
   ]
  },
  {
   "cell_type": "code",
   "execution_count": 1,
   "id": "d2c6655a",
   "metadata": {
    "execution": {
     "iopub.execute_input": "2023-07-06T20:17:55.768331Z",
     "iopub.status.busy": "2023-07-06T20:17:55.767455Z",
     "iopub.status.idle": "2023-07-06T20:17:57.203694Z",
     "shell.execute_reply": "2023-07-06T20:17:57.202833Z"
    },
    "papermill": {
     "duration": 1.469024,
     "end_time": "2023-07-06T20:17:57.206204",
     "exception": false,
     "start_time": "2023-07-06T20:17:55.737180",
     "status": "completed"
    },
    "tags": []
   },
   "outputs": [],
   "source": [
    "import numpy as np\n",
    "import pandas as pd\n",
    "import seaborn as sns\n",
    "import matplotlib.pyplot as plt\n",
    "%matplotlib inline"
   ]
  },
  {
   "cell_type": "code",
   "execution_count": 2,
   "id": "cabb1e37",
   "metadata": {
    "execution": {
     "iopub.execute_input": "2023-07-06T20:17:57.267438Z",
     "iopub.status.busy": "2023-07-06T20:17:57.267016Z",
     "iopub.status.idle": "2023-07-06T20:17:57.276186Z",
     "shell.execute_reply": "2023-07-06T20:17:57.275368Z"
    },
    "papermill": {
     "duration": 0.042466,
     "end_time": "2023-07-06T20:17:57.278448",
     "exception": false,
     "start_time": "2023-07-06T20:17:57.235982",
     "status": "completed"
    },
    "tags": []
   },
   "outputs": [
    {
     "name": "stdout",
     "output_type": "stream",
     "text": [
      "/kaggle/input/online-chess-games/chess_games.csv\n"
     ]
    }
   ],
   "source": [
    "import os\n",
    "for dirname, _, filenames in os.walk('/kaggle/input'):\n",
    "    for filename in filenames:\n",
    "        print(os.path.join(dirname, filename))"
   ]
  },
  {
   "cell_type": "markdown",
   "id": "0dad1c9e",
   "metadata": {
    "papermill": {
     "duration": 0.029154,
     "end_time": "2023-07-06T20:17:57.337039",
     "exception": false,
     "start_time": "2023-07-06T20:17:57.307885",
     "status": "completed"
    },
    "tags": []
   },
   "source": [
    "# Exploratory Data Analysis (EDA)"
   ]
  },
  {
   "cell_type": "code",
   "execution_count": 3,
   "id": "e7d278d2",
   "metadata": {
    "execution": {
     "iopub.execute_input": "2023-07-06T20:17:57.398301Z",
     "iopub.status.busy": "2023-07-06T20:17:57.397922Z",
     "iopub.status.idle": "2023-07-06T20:17:57.653203Z",
     "shell.execute_reply": "2023-07-06T20:17:57.652039Z"
    },
    "papermill": {
     "duration": 0.288892,
     "end_time": "2023-07-06T20:17:57.656153",
     "exception": false,
     "start_time": "2023-07-06T20:17:57.367261",
     "status": "completed"
    },
    "tags": []
   },
   "outputs": [],
   "source": [
    "df = pd.read_csv('/kaggle/input/online-chess-games/chess_games.csv')"
   ]
  },
  {
   "cell_type": "code",
   "execution_count": 4,
   "id": "236eb9ce",
   "metadata": {
    "execution": {
     "iopub.execute_input": "2023-07-06T20:17:57.716324Z",
     "iopub.status.busy": "2023-07-06T20:17:57.715902Z",
     "iopub.status.idle": "2023-07-06T20:17:57.753783Z",
     "shell.execute_reply": "2023-07-06T20:17:57.752652Z"
    },
    "papermill": {
     "duration": 0.070899,
     "end_time": "2023-07-06T20:17:57.756347",
     "exception": false,
     "start_time": "2023-07-06T20:17:57.685448",
     "status": "completed"
    },
    "tags": []
   },
   "outputs": [
    {
     "data": {
      "text/html": [
       "<div>\n",
       "<style scoped>\n",
       "    .dataframe tbody tr th:only-of-type {\n",
       "        vertical-align: middle;\n",
       "    }\n",
       "\n",
       "    .dataframe tbody tr th {\n",
       "        vertical-align: top;\n",
       "    }\n",
       "\n",
       "    .dataframe thead th {\n",
       "        text-align: right;\n",
       "    }\n",
       "</style>\n",
       "<table border=\"1\" class=\"dataframe\">\n",
       "  <thead>\n",
       "    <tr style=\"text-align: right;\">\n",
       "      <th></th>\n",
       "      <th>game_id</th>\n",
       "      <th>rated</th>\n",
       "      <th>turns</th>\n",
       "      <th>victory_status</th>\n",
       "      <th>winner</th>\n",
       "      <th>time_increment</th>\n",
       "      <th>white_id</th>\n",
       "      <th>white_rating</th>\n",
       "      <th>black_id</th>\n",
       "      <th>black_rating</th>\n",
       "      <th>moves</th>\n",
       "      <th>opening_code</th>\n",
       "      <th>opening_moves</th>\n",
       "      <th>opening_fullname</th>\n",
       "      <th>opening_shortname</th>\n",
       "      <th>opening_response</th>\n",
       "      <th>opening_variation</th>\n",
       "    </tr>\n",
       "  </thead>\n",
       "  <tbody>\n",
       "    <tr>\n",
       "      <th>0</th>\n",
       "      <td>1</td>\n",
       "      <td>False</td>\n",
       "      <td>13</td>\n",
       "      <td>Out of Time</td>\n",
       "      <td>White</td>\n",
       "      <td>15+2</td>\n",
       "      <td>bourgris</td>\n",
       "      <td>1500</td>\n",
       "      <td>a-00</td>\n",
       "      <td>1191</td>\n",
       "      <td>d4 d5 c4 c6 cxd5 e6 dxe6 fxe6 Nf3 Bb4+ Nc3 Ba5...</td>\n",
       "      <td>D10</td>\n",
       "      <td>5</td>\n",
       "      <td>Slav Defense: Exchange Variation</td>\n",
       "      <td>Slav Defense</td>\n",
       "      <td>NaN</td>\n",
       "      <td>Exchange Variation</td>\n",
       "    </tr>\n",
       "    <tr>\n",
       "      <th>1</th>\n",
       "      <td>2</td>\n",
       "      <td>True</td>\n",
       "      <td>16</td>\n",
       "      <td>Resign</td>\n",
       "      <td>Black</td>\n",
       "      <td>5+10</td>\n",
       "      <td>a-00</td>\n",
       "      <td>1322</td>\n",
       "      <td>skinnerua</td>\n",
       "      <td>1261</td>\n",
       "      <td>d4 Nc6 e4 e5 f4 f6 dxe5 fxe5 fxe5 Nxe5 Qd4 Nc6...</td>\n",
       "      <td>B00</td>\n",
       "      <td>4</td>\n",
       "      <td>Nimzowitsch Defense: Kennedy Variation</td>\n",
       "      <td>Nimzowitsch Defense</td>\n",
       "      <td>NaN</td>\n",
       "      <td>Kennedy Variation</td>\n",
       "    </tr>\n",
       "    <tr>\n",
       "      <th>2</th>\n",
       "      <td>3</td>\n",
       "      <td>True</td>\n",
       "      <td>61</td>\n",
       "      <td>Mate</td>\n",
       "      <td>White</td>\n",
       "      <td>5+10</td>\n",
       "      <td>ischia</td>\n",
       "      <td>1496</td>\n",
       "      <td>a-00</td>\n",
       "      <td>1500</td>\n",
       "      <td>e4 e5 d3 d6 Be3 c6 Be2 b5 Nd2 a5 a4 c5 axb5 Nc...</td>\n",
       "      <td>C20</td>\n",
       "      <td>3</td>\n",
       "      <td>King's Pawn Game: Leonardis Variation</td>\n",
       "      <td>King's Pawn Game</td>\n",
       "      <td>NaN</td>\n",
       "      <td>Leonardis Variation</td>\n",
       "    </tr>\n",
       "    <tr>\n",
       "      <th>3</th>\n",
       "      <td>4</td>\n",
       "      <td>True</td>\n",
       "      <td>61</td>\n",
       "      <td>Mate</td>\n",
       "      <td>White</td>\n",
       "      <td>20+0</td>\n",
       "      <td>daniamurashov</td>\n",
       "      <td>1439</td>\n",
       "      <td>adivanov2009</td>\n",
       "      <td>1454</td>\n",
       "      <td>d4 d5 Nf3 Bf5 Nc3 Nf6 Bf4 Ng4 e3 Nc6 Be2 Qd7 O...</td>\n",
       "      <td>D02</td>\n",
       "      <td>3</td>\n",
       "      <td>Queen's Pawn Game: Zukertort Variation</td>\n",
       "      <td>Queen's Pawn Game</td>\n",
       "      <td>NaN</td>\n",
       "      <td>Zukertort Variation</td>\n",
       "    </tr>\n",
       "    <tr>\n",
       "      <th>4</th>\n",
       "      <td>5</td>\n",
       "      <td>True</td>\n",
       "      <td>95</td>\n",
       "      <td>Mate</td>\n",
       "      <td>White</td>\n",
       "      <td>30+3</td>\n",
       "      <td>nik221107</td>\n",
       "      <td>1523</td>\n",
       "      <td>adivanov2009</td>\n",
       "      <td>1469</td>\n",
       "      <td>e4 e5 Nf3 d6 d4 Nc6 d5 Nb4 a3 Na6 Nc3 Be7 b4 N...</td>\n",
       "      <td>C41</td>\n",
       "      <td>5</td>\n",
       "      <td>Philidor Defense</td>\n",
       "      <td>Philidor Defense</td>\n",
       "      <td>NaN</td>\n",
       "      <td>NaN</td>\n",
       "    </tr>\n",
       "  </tbody>\n",
       "</table>\n",
       "</div>"
      ],
      "text/plain": [
       "   game_id  rated  turns victory_status winner time_increment       white_id  \\\n",
       "0        1  False     13    Out of Time  White           15+2       bourgris   \n",
       "1        2   True     16         Resign  Black           5+10           a-00   \n",
       "2        3   True     61           Mate  White           5+10         ischia   \n",
       "3        4   True     61           Mate  White           20+0  daniamurashov   \n",
       "4        5   True     95           Mate  White           30+3      nik221107   \n",
       "\n",
       "   white_rating      black_id  black_rating  \\\n",
       "0          1500          a-00          1191   \n",
       "1          1322     skinnerua          1261   \n",
       "2          1496          a-00          1500   \n",
       "3          1439  adivanov2009          1454   \n",
       "4          1523  adivanov2009          1469   \n",
       "\n",
       "                                               moves opening_code  \\\n",
       "0  d4 d5 c4 c6 cxd5 e6 dxe6 fxe6 Nf3 Bb4+ Nc3 Ba5...          D10   \n",
       "1  d4 Nc6 e4 e5 f4 f6 dxe5 fxe5 fxe5 Nxe5 Qd4 Nc6...          B00   \n",
       "2  e4 e5 d3 d6 Be3 c6 Be2 b5 Nd2 a5 a4 c5 axb5 Nc...          C20   \n",
       "3  d4 d5 Nf3 Bf5 Nc3 Nf6 Bf4 Ng4 e3 Nc6 Be2 Qd7 O...          D02   \n",
       "4  e4 e5 Nf3 d6 d4 Nc6 d5 Nb4 a3 Na6 Nc3 Be7 b4 N...          C41   \n",
       "\n",
       "   opening_moves                        opening_fullname    opening_shortname  \\\n",
       "0              5        Slav Defense: Exchange Variation         Slav Defense   \n",
       "1              4  Nimzowitsch Defense: Kennedy Variation  Nimzowitsch Defense   \n",
       "2              3   King's Pawn Game: Leonardis Variation     King's Pawn Game   \n",
       "3              3  Queen's Pawn Game: Zukertort Variation    Queen's Pawn Game   \n",
       "4              5                        Philidor Defense     Philidor Defense   \n",
       "\n",
       "  opening_response    opening_variation  \n",
       "0              NaN   Exchange Variation  \n",
       "1              NaN    Kennedy Variation  \n",
       "2              NaN  Leonardis Variation  \n",
       "3              NaN  Zukertort Variation  \n",
       "4              NaN                  NaN  "
      ]
     },
     "execution_count": 4,
     "metadata": {},
     "output_type": "execute_result"
    }
   ],
   "source": [
    "df.head()"
   ]
  },
  {
   "cell_type": "code",
   "execution_count": 5,
   "id": "9a259e06",
   "metadata": {
    "execution": {
     "iopub.execute_input": "2023-07-06T20:17:57.819178Z",
     "iopub.status.busy": "2023-07-06T20:17:57.818798Z",
     "iopub.status.idle": "2023-07-06T20:17:57.913418Z",
     "shell.execute_reply": "2023-07-06T20:17:57.912208Z"
    },
    "papermill": {
     "duration": 0.12912,
     "end_time": "2023-07-06T20:17:57.916011",
     "exception": false,
     "start_time": "2023-07-06T20:17:57.786891",
     "status": "completed"
    },
    "tags": []
   },
   "outputs": [
    {
     "name": "stdout",
     "output_type": "stream",
     "text": [
      "<class 'pandas.core.frame.DataFrame'>\n",
      "RangeIndex: 20058 entries, 0 to 20057\n",
      "Data columns (total 17 columns):\n",
      " #   Column             Non-Null Count  Dtype \n",
      "---  ------             --------------  ----- \n",
      " 0   game_id            20058 non-null  int64 \n",
      " 1   rated              20058 non-null  bool  \n",
      " 2   turns              20058 non-null  int64 \n",
      " 3   victory_status     20058 non-null  object\n",
      " 4   winner             20058 non-null  object\n",
      " 5   time_increment     20058 non-null  object\n",
      " 6   white_id           20058 non-null  object\n",
      " 7   white_rating       20058 non-null  int64 \n",
      " 8   black_id           20058 non-null  object\n",
      " 9   black_rating       20058 non-null  int64 \n",
      " 10  moves              20058 non-null  object\n",
      " 11  opening_code       20058 non-null  object\n",
      " 12  opening_moves      20058 non-null  int64 \n",
      " 13  opening_fullname   20058 non-null  object\n",
      " 14  opening_shortname  20058 non-null  object\n",
      " 15  opening_response   1207 non-null   object\n",
      " 16  opening_variation  14398 non-null  object\n",
      "dtypes: bool(1), int64(5), object(11)\n",
      "memory usage: 2.5+ MB\n"
     ]
    }
   ],
   "source": [
    "df.info()"
   ]
  },
  {
   "cell_type": "code",
   "execution_count": 6,
   "id": "c25be21c",
   "metadata": {
    "execution": {
     "iopub.execute_input": "2023-07-06T20:17:57.979334Z",
     "iopub.status.busy": "2023-07-06T20:17:57.978950Z",
     "iopub.status.idle": "2023-07-06T20:17:58.255247Z",
     "shell.execute_reply": "2023-07-06T20:17:58.254158Z"
    },
    "papermill": {
     "duration": 0.310354,
     "end_time": "2023-07-06T20:17:58.257815",
     "exception": false,
     "start_time": "2023-07-06T20:17:57.947461",
     "status": "completed"
    },
    "tags": []
   },
   "outputs": [
    {
     "data": {
      "text/plain": [
       "<Axes: xlabel='rated', ylabel='count'>"
      ]
     },
     "execution_count": 6,
     "metadata": {},
     "output_type": "execute_result"
    },
    {
     "data": {
      "image/png": "[encoded data removed]",
      "text/plain": [
       "<Figure size 640x480 with 1 Axes>"
      ]
     },
     "metadata": {},
     "output_type": "display_data"
    }
   ],
   "source": [
    "# Checking out some basic things of the dataset\n",
    "sns.countplot(x = df['rated'])"
   ]
  },
  {
   "cell_type": "code",
   "execution_count": 7,
   "id": "544b637e",
   "metadata": {
    "execution": {
     "iopub.execute_input": "2023-07-06T20:17:58.320589Z",
     "iopub.status.busy": "2023-07-06T20:17:58.320190Z",
     "iopub.status.idle": "2023-07-06T20:17:58.777370Z",
     "shell.execute_reply": "2023-07-06T20:17:58.776360Z"
    },
    "papermill": {
     "duration": 0.491708,
     "end_time": "2023-07-06T20:17:58.779906",
     "exception": false,
     "start_time": "2023-07-06T20:17:58.288198",
     "status": "completed"
    },
    "tags": []
   },
   "outputs": [
    {
     "data": {
      "text/plain": [
       "<Axes: xlabel='white_rating', ylabel='Count'>"
      ]
     },
     "execution_count": 7,
     "metadata": {},
     "output_type": "execute_result"
    },
    {
     "data": {
      "image/png": "[encoded data removed]",
      "text/plain": [
       "<Figure size 640x480 with 1 Axes>"
      ]
     },
     "metadata": {},
     "output_type": "display_data"
    }
   ],
   "source": [
    "sns.histplot(x = df['white_rating'])"
   ]
  },
  {
   "cell_type": "code",
   "execution_count": 8,
   "id": "2a9b7899",
   "metadata": {
    "execution": {
     "iopub.execute_input": "2023-07-06T20:17:58.843863Z",
     "iopub.status.busy": "2023-07-06T20:17:58.843481Z",
     "iopub.status.idle": "2023-07-06T20:17:59.310334Z",
     "shell.execute_reply": "2023-07-06T20:17:59.309207Z"
    },
    "papermill": {
     "duration": 0.501882,
     "end_time": "2023-07-06T20:17:59.312895",
     "exception": false,
     "start_time": "2023-07-06T20:17:58.811013",
     "status": "completed"
    },
    "tags": []
   },
   "outputs": [
    {
     "data": {
      "text/plain": [
       "<Axes: xlabel='black_rating', ylabel='Count'>"
      ]
     },
     "execution_count": 8,
     "metadata": {},
     "output_type": "execute_result"
    },
    {
     "data": {
      "image/png": "[encoded data removed]",
      "text/plain": [
       "<Figure size 640x480 with 1 Axes>"
      ]
     },
     "metadata": {},
     "output_type": "display_data"
    }
   ],
   "source": [
    "sns.histplot(x = df['black_rating'])"
   ]
  },
  {
   "cell_type": "markdown",
   "id": "8cf9bb15",
   "metadata": {
    "papermill": {
     "duration": 0.030953,
     "end_time": "2023-07-06T20:17:59.375178",
     "exception": false,
     "start_time": "2023-07-06T20:17:59.344225",
     "status": "completed"
    },
    "tags": []
   },
   "source": [
    "We can see that black and white ratings are distributed relatively equally."
   ]
  },
  {
   "cell_type": "code",
   "execution_count": 9,
   "id": "68657b16",
   "metadata": {
    "execution": {
     "iopub.execute_input": "2023-07-06T20:17:59.439116Z",
     "iopub.status.busy": "2023-07-06T20:17:59.438743Z",
     "iopub.status.idle": "2023-07-06T20:17:59.445591Z",
     "shell.execute_reply": "2023-07-06T20:17:59.444452Z"
    },
    "papermill": {
     "duration": 0.041487,
     "end_time": "2023-07-06T20:17:59.447892",
     "exception": false,
     "start_time": "2023-07-06T20:17:59.406405",
     "status": "completed"
    },
    "tags": []
   },
   "outputs": [
    {
     "name": "stdout",
     "output_type": "stream",
     "text": [
      "Average white rating: 1597\n",
      "Average black rating: 1589\n"
     ]
    }
   ],
   "source": [
    "avg_white_rating = str(round(np.average(df['white_rating'])))\n",
    "avg_black_rating = str(round(np.average(df['black_rating'])))\n",
    "\n",
    "print(\"Average white rating: \" + avg_white_rating)\n",
    "print(\"Average black rating: \" + avg_black_rating)"
   ]
  },
  {
   "cell_type": "code",
   "execution_count": 10,
   "id": "4b1cf4b3",
   "metadata": {
    "execution": {
     "iopub.execute_input": "2023-07-06T20:17:59.512287Z",
     "iopub.status.busy": "2023-07-06T20:17:59.511907Z",
     "iopub.status.idle": "2023-07-06T20:17:59.524846Z",
     "shell.execute_reply": "2023-07-06T20:17:59.524045Z"
    },
    "papermill": {
     "duration": 0.047754,
     "end_time": "2023-07-06T20:17:59.526785",
     "exception": false,
     "start_time": "2023-07-06T20:17:59.479031",
     "status": "completed"
    },
    "tags": []
   },
   "outputs": [
    {
     "data": {
      "text/plain": [
       "Van't Kruijs Opening                                              368\n",
       "Sicilian Defense                                                  358\n",
       "Sicilian Defense: Bowdler Attack                                  296\n",
       "Scotch Game                                                       271\n",
       "French Defense: Knight Variation                                  271\n",
       "                                                                 ... \n",
       "Sicilian Defense: Kupreichik Variation                              1\n",
       "Modern Defense: Lizard Defense |  Mittenberger Gambit               1\n",
       "French Defense: Rubinstein Variation |  Kasparov Attack             1\n",
       "French Defense: Tarrasch Variation |  Open System |  Main Line      1\n",
       "Sicilian Defense: Najdorf Variation |  Polugaevsky Variation        1\n",
       "Name: opening_fullname, Length: 1477, dtype: int64"
      ]
     },
     "execution_count": 10,
     "metadata": {},
     "output_type": "execute_result"
    }
   ],
   "source": [
    "df['opening_fullname'].value_counts()"
   ]
  },
  {
   "cell_type": "code",
   "execution_count": 11,
   "id": "1703db50",
   "metadata": {
    "execution": {
     "iopub.execute_input": "2023-07-06T20:17:59.591915Z",
     "iopub.status.busy": "2023-07-06T20:17:59.591225Z",
     "iopub.status.idle": "2023-07-06T20:17:59.603142Z",
     "shell.execute_reply": "2023-07-06T20:17:59.602090Z"
    },
    "papermill": {
     "duration": 0.046968,
     "end_time": "2023-07-06T20:17:59.605470",
     "exception": false,
     "start_time": "2023-07-06T20:17:59.558502",
     "status": "completed"
    },
    "tags": []
   },
   "outputs": [
    {
     "data": {
      "text/plain": [
       "Sicilian Defense       2632\n",
       "French Defense         1412\n",
       "Queen's Pawn Game      1233\n",
       "Italian Game            981\n",
       "King's Pawn Game        917\n",
       "                       ... \n",
       "Valencia Opening          1\n",
       "Australian Defense        1\n",
       "Doery Defense             1\n",
       "Pterodactyl Defense       1\n",
       "Global Opening            1\n",
       "Name: opening_shortname, Length: 128, dtype: int64"
      ]
     },
     "execution_count": 11,
     "metadata": {},
     "output_type": "execute_result"
    }
   ],
   "source": [
    "df['opening_shortname'].value_counts()"
   ]
  },
  {
   "cell_type": "code",
   "execution_count": 12,
   "id": "72914b13",
   "metadata": {
    "execution": {
     "iopub.execute_input": "2023-07-06T20:17:59.669892Z",
     "iopub.status.busy": "2023-07-06T20:17:59.668831Z",
     "iopub.status.idle": "2023-07-06T20:17:59.681358Z",
     "shell.execute_reply": "2023-07-06T20:17:59.679850Z"
    },
    "papermill": {
     "duration": 0.047168,
     "end_time": "2023-07-06T20:17:59.683666",
     "exception": false,
     "start_time": "2023-07-06T20:17:59.636498",
     "status": "completed"
    },
    "tags": []
   },
   "outputs": [
    {
     "data": {
      "text/plain": [
       "Sicilian Defense         2632\n",
       "French Defense           1412\n",
       "Queen's Pawn Game        1233\n",
       "Italian Game              981\n",
       "King's Pawn Game          917\n",
       "Queen's Gambit            912\n",
       "Ruy Lopez                 858\n",
       "English Opening           720\n",
       "Scandinavian Defense      716\n",
       "Philidor Defense          691\n",
       "Caro-Kann Defense         597\n",
       "Scotch Game               465\n",
       "Four Knights Game         370\n",
       "Van't Kruijs Opening      368\n",
       "Zukertort Opening         336\n",
       "Bishop's Opening          323\n",
       "Indian Game               319\n",
       "Pirc Defense              288\n",
       "Russian Game              252\n",
       "Slav Defense              240\n",
       "King's Gambit             237\n",
       "Modern Defense            225\n",
       "Nimzowitsch Defense       224\n",
       "Horwitz Defense           209\n",
       "King's Indian Defense     197\n",
       "Alekhine Defense          192\n",
       "King's Knight Opening     183\n",
       "Hungarian Opening         179\n",
       "Center Game               172\n",
       "Owen Defense              171\n",
       "Nimzo-Larsen Attack       164\n",
       "Bird Opening              157\n",
       "Nimzo-Indian Defense      157\n",
       "Vienna Game               137\n",
       "Queen's Pawn              129\n",
       "Dutch Defense             125\n",
       "Three Knights Opening     117\n",
       "Semi-Slav Defense         108\n",
       "Giuoco Piano              108\n",
       "Mieses Opening            103\n",
       "Rat Defense                92\n",
       "King's Indian Attack       88\n",
       "Englund Gambit             87\n",
       "Petrov's Defense           85\n",
       "Polish Opening             83\n",
       "Elephant Gambit            72\n",
       "Reti Opening               70\n",
       "Danish Gambit              70\n",
       "English Defense            68\n",
       "Ponziani Opening           66\n",
       "Name: opening_shortname, dtype: int64"
      ]
     },
     "execution_count": 12,
     "metadata": {},
     "output_type": "execute_result"
    }
   ],
   "source": [
    "df['opening_shortname'].value_counts().head(50)"
   ]
  },
  {
   "cell_type": "markdown",
   "id": "7e2e0436",
   "metadata": {
    "papermill": {
     "duration": 0.031898,
     "end_time": "2023-07-06T20:17:59.747770",
     "exception": false,
     "start_time": "2023-07-06T20:17:59.715872",
     "status": "completed"
    },
    "tags": []
   },
   "source": [
    "As we can see, even in the top 50 opening_shortname, the value_counts() is still relatively high. This indicates that after the top 3, it is quite fairly distributed amongst the openings.\n",
    "\n",
    "Let's visualize the distribution of the top 10 openings based on the winners:"
   ]
  },
  {
   "cell_type": "code",
   "execution_count": 13,
   "id": "ef53128f",
   "metadata": {
    "execution": {
     "iopub.execute_input": "2023-07-06T20:17:59.814306Z",
     "iopub.status.busy": "2023-07-06T20:17:59.813675Z",
     "iopub.status.idle": "2023-07-06T20:18:00.383351Z",
     "shell.execute_reply": "2023-07-06T20:18:00.382252Z"
    },
    "papermill": {
     "duration": 0.605899,
     "end_time": "2023-07-06T20:18:00.385823",
     "exception": false,
     "start_time": "2023-07-06T20:17:59.779924",
     "status": "completed"
    },
    "tags": []
   },
   "outputs": [
    {
     "data": {
      "text/plain": [
       "<Axes: xlabel='winner', ylabel='count'>"
      ]
     },
     "execution_count": 13,
     "metadata": {},
     "output_type": "execute_result"
    },
    {
     "data": {
      "image/png": "[encoded data removed]",
      "text/plain": [
       "<Figure size 640x480 with 1 Axes>"
      ]
     },
     "metadata": {},
     "output_type": "display_data"
    }
   ],
   "source": [
    "top_10_openings = df[(df['opening_shortname'] == 'Sicilian Defense') | \n",
    "                     (df['opening_shortname'] == 'French Defense') |\n",
    "                     (df['opening_shortname'] == 'Queen\\'s Pawn Game') | \n",
    "                     (df['opening_shortname'] == 'Italian Game') | \n",
    "                     (df['opening_shortname'] == 'King\\'s Pawn Game') | \n",
    "                     (df['opening_shortname'] == 'Queen\\'s Gambit') | \n",
    "                     (df['opening_shortname'] == 'Ruy Lopez') | \n",
    "                     (df['opening_shortname'] == 'English Opening') | \n",
    "                     (df['opening_shortname'] == 'Scandinavian Defense') | \n",
    "                     (df['opening_shortname'] == 'Philidor Defense')]\n",
    "sns.countplot(data = top_10_openings,\n",
    "              x = 'winner',\n",
    "              hue = 'opening_shortname',\n",
    "              palette = 'mako')"
   ]
  },
  {
   "cell_type": "code",
   "execution_count": 14,
   "id": "34dc20a0",
   "metadata": {
    "execution": {
     "iopub.execute_input": "2023-07-06T20:18:00.454323Z",
     "iopub.status.busy": "2023-07-06T20:18:00.453155Z",
     "iopub.status.idle": "2023-07-06T20:18:00.466796Z",
     "shell.execute_reply": "2023-07-06T20:18:00.465713Z"
    },
    "papermill": {
     "duration": 0.050066,
     "end_time": "2023-07-06T20:18:00.469241",
     "exception": false,
     "start_time": "2023-07-06T20:18:00.419175",
     "status": "completed"
    },
    "tags": []
   },
   "outputs": [
    {
     "data": {
      "text/plain": [
       "1203"
      ]
     },
     "execution_count": 14,
     "metadata": {},
     "output_type": "execute_result"
    }
   ],
   "source": [
    "# See how many games started as a Sicilian Defense and has white as the winner\n",
    "top_10_openings[(top_10_openings['opening_shortname'] == 'Sicilian Defense') & \n",
    "                (top_10_openings['winner'] == 'White')]['game_id'].count()"
   ]
  },
  {
   "cell_type": "code",
   "execution_count": 15,
   "id": "3333f6ab",
   "metadata": {
    "execution": {
     "iopub.execute_input": "2023-07-06T20:18:00.538774Z",
     "iopub.status.busy": "2023-07-06T20:18:00.537979Z",
     "iopub.status.idle": "2023-07-06T20:18:00.551231Z",
     "shell.execute_reply": "2023-07-06T20:18:00.550098Z"
    },
    "papermill": {
     "duration": 0.050617,
     "end_time": "2023-07-06T20:18:00.553915",
     "exception": false,
     "start_time": "2023-07-06T20:18:00.503298",
     "status": "completed"
    },
    "tags": []
   },
   "outputs": [
    {
     "data": {
      "text/plain": [
       "1299"
      ]
     },
     "execution_count": 15,
     "metadata": {},
     "output_type": "execute_result"
    }
   ],
   "source": [
    "# See how many games started as a Sicilian Defense and has black as the winner\n",
    "top_10_openings[(top_10_openings['opening_shortname'] == 'Sicilian Defense') & \n",
    "                (top_10_openings['winner'] == 'Black')]['game_id'].count()"
   ]
  },
  {
   "cell_type": "code",
   "execution_count": 16,
   "id": "27aa374e",
   "metadata": {
    "execution": {
     "iopub.execute_input": "2023-07-06T20:18:00.622743Z",
     "iopub.status.busy": "2023-07-06T20:18:00.622295Z",
     "iopub.status.idle": "2023-07-06T20:18:00.629826Z",
     "shell.execute_reply": "2023-07-06T20:18:00.628794Z"
    },
    "papermill": {
     "duration": 0.04479,
     "end_time": "2023-07-06T20:18:00.632312",
     "exception": false,
     "start_time": "2023-07-06T20:18:00.587522",
     "status": "completed"
    },
    "tags": []
   },
   "outputs": [],
   "source": [
    "def winner_percentage_by_opening(df, opening):\n",
    "    \"\"\"Takes in the dateframe df and the name of the shortname of an opening as opening. Then returns the values of total games that started as opening as total, as well as the total number games where white is the winner, black is the winner, and ended as a draw as the variables white, black, and draw respectively.\"\"\"\n",
    "    total = len(df[df['opening_shortname'] == opening])\n",
    "    white = len(df[(df['opening_shortname'] == opening) & (df['winner'] == 'White')])\n",
    "    black = len(df[(df['opening_shortname'] == opening) & (df['winner'] == 'Black')])\n",
    "    draw = len(df[(df['opening_shortname'] == opening) & (df['winner'] == 'Draw')])\n",
    "    return white, black, draw, total"
   ]
  },
  {
   "cell_type": "code",
   "execution_count": 17,
   "id": "cdeecf8e",
   "metadata": {
    "execution": {
     "iopub.execute_input": "2023-07-06T20:18:00.701896Z",
     "iopub.status.busy": "2023-07-06T20:18:00.701154Z",
     "iopub.status.idle": "2023-07-06T20:18:00.708094Z",
     "shell.execute_reply": "2023-07-06T20:18:00.707203Z"
    },
    "papermill": {
     "duration": 0.04395,
     "end_time": "2023-07-06T20:18:00.710400",
     "exception": false,
     "start_time": "2023-07-06T20:18:00.666450",
     "status": "completed"
    },
    "tags": []
   },
   "outputs": [],
   "source": [
    "unique_openings = df['opening_shortname'].unique()"
   ]
  },
  {
   "cell_type": "code",
   "execution_count": 18,
   "id": "8d3d9ecb",
   "metadata": {
    "execution": {
     "iopub.execute_input": "2023-07-06T20:18:00.780439Z",
     "iopub.status.busy": "2023-07-06T20:18:00.779240Z",
     "iopub.status.idle": "2023-07-06T20:18:00.783970Z",
     "shell.execute_reply": "2023-07-06T20:18:00.783183Z"
    },
    "papermill": {
     "duration": 0.041857,
     "end_time": "2023-07-06T20:18:00.786104",
     "exception": false,
     "start_time": "2023-07-06T20:18:00.744247",
     "status": "completed"
    },
    "tags": []
   },
   "outputs": [],
   "source": [
    "# This was just for testing\n",
    "#for opening in unique_openings:\n",
    "    #white, black, draw, total = winner_percentage_by_opening(df, opening)\n",
    "    #print(\"White winning percentage when playing\", opening, \"is\", white/total*100)\n",
    "    #print(\"Black winning percentage when playing\", opening, \"is\", black/total*100)\n",
    "    #print(\"Draw percentage when playing\", opening, \"is\", draw/total*100)\n",
    "    #print('\\n')"
   ]
  },
  {
   "cell_type": "markdown",
   "id": "08a40d2b",
   "metadata": {
    "papermill": {
     "duration": 0.033026,
     "end_time": "2023-07-06T20:18:00.853215",
     "exception": false,
     "start_time": "2023-07-06T20:18:00.820189",
     "status": "completed"
    },
    "tags": []
   },
   "source": [
    "From the function I just created, we can see the winning results percentages based on the opening. Now, let's turn this into a dataframe for better readability and interactibility."
   ]
  },
  {
   "cell_type": "code",
   "execution_count": 19,
   "id": "4bcda8ca",
   "metadata": {
    "execution": {
     "iopub.execute_input": "2023-07-06T20:18:00.922257Z",
     "iopub.status.busy": "2023-07-06T20:18:00.921578Z",
     "iopub.status.idle": "2023-07-06T20:18:00.927620Z",
     "shell.execute_reply": "2023-07-06T20:18:00.926850Z"
    },
    "papermill": {
     "duration": 0.043078,
     "end_time": "2023-07-06T20:18:00.929754",
     "exception": false,
     "start_time": "2023-07-06T20:18:00.886676",
     "status": "completed"
    },
    "tags": []
   },
   "outputs": [],
   "source": [
    "result_by_opening = pd.DataFrame(columns=['White (%)', 'Black (%)', 'Draw (%)'])"
   ]
  },
  {
   "cell_type": "code",
   "execution_count": 20,
   "id": "dc3494c3",
   "metadata": {
    "execution": {
     "iopub.execute_input": "2023-07-06T20:18:01.000500Z",
     "iopub.status.busy": "2023-07-06T20:18:00.999813Z",
     "iopub.status.idle": "2023-07-06T20:18:04.554734Z",
     "shell.execute_reply": "2023-07-06T20:18:04.553706Z"
    },
    "papermill": {
     "duration": 3.592524,
     "end_time": "2023-07-06T20:18:04.557253",
     "exception": false,
     "start_time": "2023-07-06T20:18:00.964729",
     "status": "completed"
    },
    "tags": []
   },
   "outputs": [],
   "source": [
    "for opening in unique_openings:\n",
    "    white, black, draw, total = winner_percentage_by_opening(df, opening)\n",
    "    result_by_opening.loc[opening] = [round((white/total)*100,2),\n",
    "                                      round((black/total)*100,2),\n",
    "                                      round((draw/total)*100,2)]"
   ]
  },
  {
   "cell_type": "code",
   "execution_count": 21,
   "id": "cdbfaa0b",
   "metadata": {
    "execution": {
     "iopub.execute_input": "2023-07-06T20:18:04.626113Z",
     "iopub.status.busy": "2023-07-06T20:18:04.625734Z",
     "iopub.status.idle": "2023-07-06T20:18:04.639968Z",
     "shell.execute_reply": "2023-07-06T20:18:04.639230Z"
    },
    "papermill": {
     "duration": 0.051381,
     "end_time": "2023-07-06T20:18:04.642418",
     "exception": false,
     "start_time": "2023-07-06T20:18:04.591037",
     "status": "completed"
    },
    "tags": []
   },
   "outputs": [
    {
     "data": {
      "text/html": [
       "<div>\n",
       "<style scoped>\n",
       "    .dataframe tbody tr th:only-of-type {\n",
       "        vertical-align: middle;\n",
       "    }\n",
       "\n",
       "    .dataframe tbody tr th {\n",
       "        vertical-align: top;\n",
       "    }\n",
       "\n",
       "    .dataframe thead th {\n",
       "        text-align: right;\n",
       "    }\n",
       "</style>\n",
       "<table border=\"1\" class=\"dataframe\">\n",
       "  <thead>\n",
       "    <tr style=\"text-align: right;\">\n",
       "      <th></th>\n",
       "      <th>White (%)</th>\n",
       "      <th>Black (%)</th>\n",
       "      <th>Draw (%)</th>\n",
       "    </tr>\n",
       "  </thead>\n",
       "  <tbody>\n",
       "    <tr>\n",
       "      <th>Slav Defense</th>\n",
       "      <td>46.25</td>\n",
       "      <td>46.25</td>\n",
       "      <td>7.50</td>\n",
       "    </tr>\n",
       "    <tr>\n",
       "      <th>Nimzowitsch Defense</th>\n",
       "      <td>65.62</td>\n",
       "      <td>30.80</td>\n",
       "      <td>3.57</td>\n",
       "    </tr>\n",
       "    <tr>\n",
       "      <th>King's Pawn Game</th>\n",
       "      <td>47.98</td>\n",
       "      <td>48.09</td>\n",
       "      <td>3.93</td>\n",
       "    </tr>\n",
       "    <tr>\n",
       "      <th>Queen's Pawn Game</th>\n",
       "      <td>46.23</td>\n",
       "      <td>48.82</td>\n",
       "      <td>4.95</td>\n",
       "    </tr>\n",
       "    <tr>\n",
       "      <th>Philidor Defense</th>\n",
       "      <td>57.31</td>\n",
       "      <td>38.64</td>\n",
       "      <td>4.05</td>\n",
       "    </tr>\n",
       "    <tr>\n",
       "      <th>...</th>\n",
       "      <td>...</td>\n",
       "      <td>...</td>\n",
       "      <td>...</td>\n",
       "    </tr>\n",
       "    <tr>\n",
       "      <th>King's Indian</th>\n",
       "      <td>66.67</td>\n",
       "      <td>33.33</td>\n",
       "      <td>0.00</td>\n",
       "    </tr>\n",
       "    <tr>\n",
       "      <th>Barnes Opening</th>\n",
       "      <td>50.00</td>\n",
       "      <td>0.00</td>\n",
       "      <td>50.00</td>\n",
       "    </tr>\n",
       "    <tr>\n",
       "      <th>Canard Opening</th>\n",
       "      <td>50.00</td>\n",
       "      <td>50.00</td>\n",
       "      <td>0.00</td>\n",
       "    </tr>\n",
       "    <tr>\n",
       "      <th>Pterodactyl Defense</th>\n",
       "      <td>100.00</td>\n",
       "      <td>0.00</td>\n",
       "      <td>0.00</td>\n",
       "    </tr>\n",
       "    <tr>\n",
       "      <th>Rubinstein Opening</th>\n",
       "      <td>100.00</td>\n",
       "      <td>0.00</td>\n",
       "      <td>0.00</td>\n",
       "    </tr>\n",
       "  </tbody>\n",
       "</table>\n",
       "<p>128 rows × 3 columns</p>\n",
       "</div>"
      ],
      "text/plain": [
       "                     White (%)  Black (%)  Draw (%)\n",
       "Slav Defense             46.25      46.25      7.50\n",
       "Nimzowitsch Defense      65.62      30.80      3.57\n",
       "King's Pawn Game         47.98      48.09      3.93\n",
       "Queen's Pawn Game        46.23      48.82      4.95\n",
       "Philidor Defense         57.31      38.64      4.05\n",
       "...                        ...        ...       ...\n",
       "King's Indian            66.67      33.33      0.00\n",
       "Barnes Opening           50.00       0.00     50.00\n",
       "Canard Opening           50.00      50.00      0.00\n",
       "Pterodactyl Defense     100.00       0.00      0.00\n",
       "Rubinstein Opening      100.00       0.00      0.00\n",
       "\n",
       "[128 rows x 3 columns]"
      ]
     },
     "execution_count": 21,
     "metadata": {},
     "output_type": "execute_result"
    }
   ],
   "source": [
    "result_by_opening"
   ]
  },
  {
   "cell_type": "markdown",
   "id": "937cf6ae",
   "metadata": {
    "papermill": {
     "duration": 0.032423,
     "end_time": "2023-07-06T20:18:04.708199",
     "exception": false,
     "start_time": "2023-07-06T20:18:04.675776",
     "status": "completed"
    },
    "tags": []
   },
   "source": [
    "## More EDA for fun"
   ]
  },
  {
   "cell_type": "code",
   "execution_count": 22,
   "id": "5c68dbd9",
   "metadata": {
    "execution": {
     "iopub.execute_input": "2023-07-06T20:18:04.777522Z",
     "iopub.status.busy": "2023-07-06T20:18:04.776924Z",
     "iopub.status.idle": "2023-07-06T20:18:04.794106Z",
     "shell.execute_reply": "2023-07-06T20:18:04.793343Z"
    },
    "papermill": {
     "duration": 0.05434,
     "end_time": "2023-07-06T20:18:04.796266",
     "exception": false,
     "start_time": "2023-07-06T20:18:04.741926",
     "status": "completed"
    },
    "tags": []
   },
   "outputs": [
    {
     "data": {
      "text/html": [
       "<div>\n",
       "<style scoped>\n",
       "    .dataframe tbody tr th:only-of-type {\n",
       "        vertical-align: middle;\n",
       "    }\n",
       "\n",
       "    .dataframe tbody tr th {\n",
       "        vertical-align: top;\n",
       "    }\n",
       "\n",
       "    .dataframe thead th {\n",
       "        text-align: right;\n",
       "    }\n",
       "</style>\n",
       "<table border=\"1\" class=\"dataframe\">\n",
       "  <thead>\n",
       "    <tr style=\"text-align: right;\">\n",
       "      <th></th>\n",
       "      <th>rated</th>\n",
       "      <th>turns</th>\n",
       "      <th>white_rating</th>\n",
       "      <th>black_rating</th>\n",
       "      <th>opening_moves</th>\n",
       "    </tr>\n",
       "  </thead>\n",
       "  <tbody>\n",
       "    <tr>\n",
       "      <th>rated</th>\n",
       "      <td>1.000000</td>\n",
       "      <td>0.090698</td>\n",
       "      <td>0.003284</td>\n",
       "      <td>0.032655</td>\n",
       "      <td>-0.001906</td>\n",
       "    </tr>\n",
       "    <tr>\n",
       "      <th>turns</th>\n",
       "      <td>0.090698</td>\n",
       "      <td>1.000000</td>\n",
       "      <td>0.129753</td>\n",
       "      <td>0.160467</td>\n",
       "      <td>0.055999</td>\n",
       "    </tr>\n",
       "    <tr>\n",
       "      <th>white_rating</th>\n",
       "      <td>0.003284</td>\n",
       "      <td>0.129753</td>\n",
       "      <td>1.000000</td>\n",
       "      <td>0.634171</td>\n",
       "      <td>0.277379</td>\n",
       "    </tr>\n",
       "    <tr>\n",
       "      <th>black_rating</th>\n",
       "      <td>0.032655</td>\n",
       "      <td>0.160467</td>\n",
       "      <td>0.634171</td>\n",
       "      <td>1.000000</td>\n",
       "      <td>0.255396</td>\n",
       "    </tr>\n",
       "    <tr>\n",
       "      <th>opening_moves</th>\n",
       "      <td>-0.001906</td>\n",
       "      <td>0.055999</td>\n",
       "      <td>0.277379</td>\n",
       "      <td>0.255396</td>\n",
       "      <td>1.000000</td>\n",
       "    </tr>\n",
       "  </tbody>\n",
       "</table>\n",
       "</div>"
      ],
      "text/plain": [
       "                  rated     turns  white_rating  black_rating  opening_moves\n",
       "rated          1.000000  0.090698      0.003284      0.032655      -0.001906\n",
       "turns          0.090698  1.000000      0.129753      0.160467       0.055999\n",
       "white_rating   0.003284  0.129753      1.000000      0.634171       0.277379\n",
       "black_rating   0.032655  0.160467      0.634171      1.000000       0.255396\n",
       "opening_moves -0.001906  0.055999      0.277379      0.255396       1.000000"
      ]
     },
     "execution_count": 22,
     "metadata": {},
     "output_type": "execute_result"
    }
   ],
   "source": [
    "df[['rated', 'turns',  'white_rating', 'black_rating', 'opening_moves']].corr()"
   ]
  },
  {
   "cell_type": "code",
   "execution_count": 23,
   "id": "30998095",
   "metadata": {
    "execution": {
     "iopub.execute_input": "2023-07-06T20:18:04.866505Z",
     "iopub.status.busy": "2023-07-06T20:18:04.865904Z",
     "iopub.status.idle": "2023-07-06T20:18:05.300232Z",
     "shell.execute_reply": "2023-07-06T20:18:05.298691Z"
    },
    "papermill": {
     "duration": 0.472269,
     "end_time": "2023-07-06T20:18:05.302758",
     "exception": false,
     "start_time": "2023-07-06T20:18:04.830489",
     "status": "completed"
    },
    "tags": []
   },
   "outputs": [
    {
     "data": {
      "text/plain": [
       "<Axes: >"
      ]
     },
     "execution_count": 23,
     "metadata": {},
     "output_type": "execute_result"
    },
    {
     "data": {
      "image/png": "[encoded data removed]",
      "text/plain": [
       "<Figure size 640x480 with 2 Axes>"
      ]
     },
     "metadata": {},
     "output_type": "display_data"
    }
   ],
   "source": [
    "sns.heatmap(data = df[['rated', 'turns',  'white_rating', 'black_rating', 'opening_moves']].corr(),\n",
    "            annot = True, \n",
    "            cmap= 'viridis')"
   ]
  },
  {
   "cell_type": "markdown",
   "id": "9129c10e",
   "metadata": {
    "papermill": {
     "duration": 0.034346,
     "end_time": "2023-07-06T20:18:05.372420",
     "exception": false,
     "start_time": "2023-07-06T20:18:05.338074",
     "status": "completed"
    },
    "tags": []
   },
   "source": [
    "There is a correlation between white_rating and black_rating which makes sense since people typically play against others that have similar ratings."
   ]
  },
  {
   "cell_type": "code",
   "execution_count": 24,
   "id": "0cd058b2",
   "metadata": {
    "execution": {
     "iopub.execute_input": "2023-07-06T20:18:05.445027Z",
     "iopub.status.busy": "2023-07-06T20:18:05.444623Z",
     "iopub.status.idle": "2023-07-06T20:18:05.880910Z",
     "shell.execute_reply": "2023-07-06T20:18:05.880057Z"
    },
    "papermill": {
     "duration": 0.474913,
     "end_time": "2023-07-06T20:18:05.883262",
     "exception": false,
     "start_time": "2023-07-06T20:18:05.408349",
     "status": "completed"
    },
    "tags": []
   },
   "outputs": [
    {
     "data": {
      "text/plain": [
       "<Axes: xlabel='white_rating', ylabel='black_rating'>"
      ]
     },
     "execution_count": 24,
     "metadata": {},
     "output_type": "execute_result"
    },
    {
     "data": {
      "image/png": "[encoded data removed]",
      "text/plain": [
       "<Figure size 640x480 with 1 Axes>"
      ]
     },
     "metadata": {},
     "output_type": "display_data"
    }
   ],
   "source": [
    "sns.scatterplot(data = df, x = 'white_rating', y = 'black_rating')"
   ]
  },
  {
   "cell_type": "markdown",
   "id": "0787be1d",
   "metadata": {
    "papermill": {
     "duration": 0.037483,
     "end_time": "2023-07-06T20:18:05.958320",
     "exception": false,
     "start_time": "2023-07-06T20:18:05.920837",
     "status": "completed"
    },
    "tags": []
   },
   "source": [
    "I want to know the different distribution of winnners based on skill level. For this, I will be seperating the data based on their rating. Since both the white and black pieces have their own rating, I will measure the rating of each individual game itself by averaging the white and black rating. Then, I will be seperating these average ratings into 4 categories:\n",
    "* Beginner: 0-2000 ELO\n",
    "* Intermediate: 1201-1800 ELO\n",
    "* Advanced: 1801-2200 ELO\n",
    "* Expert: >2200 ELO"
   ]
  },
  {
   "cell_type": "code",
   "execution_count": 25,
   "id": "9293e09d",
   "metadata": {
    "execution": {
     "iopub.execute_input": "2023-07-06T20:18:06.035402Z",
     "iopub.status.busy": "2023-07-06T20:18:06.034980Z",
     "iopub.status.idle": "2023-07-06T20:18:06.041651Z",
     "shell.execute_reply": "2023-07-06T20:18:06.040490Z"
    },
    "papermill": {
     "duration": 0.047783,
     "end_time": "2023-07-06T20:18:06.044043",
     "exception": false,
     "start_time": "2023-07-06T20:18:05.996260",
     "status": "completed"
    },
    "tags": []
   },
   "outputs": [],
   "source": [
    "df['average_rating'] = (df['white_rating'] + df['black_rating'])/2"
   ]
  },
  {
   "cell_type": "code",
   "execution_count": 26,
   "id": "cc436779",
   "metadata": {
    "execution": {
     "iopub.execute_input": "2023-07-06T20:18:06.120498Z",
     "iopub.status.busy": "2023-07-06T20:18:06.120055Z",
     "iopub.status.idle": "2023-07-06T20:18:06.126105Z",
     "shell.execute_reply": "2023-07-06T20:18:06.125243Z"
    },
    "papermill": {
     "duration": 0.046916,
     "end_time": "2023-07-06T20:18:06.128118",
     "exception": false,
     "start_time": "2023-07-06T20:18:06.081202",
     "status": "completed"
    },
    "tags": []
   },
   "outputs": [],
   "source": [
    "def find_skill(rating):\n",
    "    \"\"\"This function takes in the rating of a game and returns a skill level as follows: 1) Beginner: 0<=rating<=1200, 2) Intermediate: 1200<rating<=1800, 3) 1800<rating<=2200, and 4) 2200<rating.\"\"\"\n",
    "    if rating<=1200:\n",
    "        return 'Beginner'\n",
    "    if 1200<rating and rating<=1800:\n",
    "        return 'Intermediate'\n",
    "    if 1800<rating and rating<=2200:\n",
    "        return 'Advanced'\n",
    "    return 'Expert'"
   ]
  },
  {
   "cell_type": "code",
   "execution_count": 27,
   "id": "a314db7e",
   "metadata": {
    "execution": {
     "iopub.execute_input": "2023-07-06T20:18:06.204321Z",
     "iopub.status.busy": "2023-07-06T20:18:06.203887Z",
     "iopub.status.idle": "2023-07-06T20:18:06.229788Z",
     "shell.execute_reply": "2023-07-06T20:18:06.228636Z"
    },
    "papermill": {
     "duration": 0.067141,
     "end_time": "2023-07-06T20:18:06.232253",
     "exception": false,
     "start_time": "2023-07-06T20:18:06.165112",
     "status": "completed"
    },
    "tags": []
   },
   "outputs": [
    {
     "data": {
      "text/plain": [
       "Intermediate    14429\n",
       "Advanced         4186\n",
       "Beginner         1173\n",
       "Expert            270\n",
       "Name: skill_level, dtype: int64"
      ]
     },
     "execution_count": 27,
     "metadata": {},
     "output_type": "execute_result"
    }
   ],
   "source": [
    "df['skill_level'] = df['average_rating'].apply(find_skill)\n",
    "df['skill_level'].value_counts()"
   ]
  },
  {
   "cell_type": "code",
   "execution_count": 28,
   "id": "896cc7a8",
   "metadata": {
    "execution": {
     "iopub.execute_input": "2023-07-06T20:18:06.308714Z",
     "iopub.status.busy": "2023-07-06T20:18:06.308295Z",
     "iopub.status.idle": "2023-07-06T20:18:06.694540Z",
     "shell.execute_reply": "2023-07-06T20:18:06.693438Z"
    },
    "papermill": {
     "duration": 0.42746,
     "end_time": "2023-07-06T20:18:06.696796",
     "exception": false,
     "start_time": "2023-07-06T20:18:06.269336",
     "status": "completed"
    },
    "tags": []
   },
   "outputs": [
    {
     "data": {
      "text/plain": [
       "<Axes: xlabel='skill_level', ylabel='count'>"
      ]
     },
     "execution_count": 28,
     "metadata": {},
     "output_type": "execute_result"
    },
    {
     "data": {
      "image/png": "[encoded data removed]",
      "text/plain": [
       "<Figure size 640x480 with 1 Axes>"
      ]
     },
     "metadata": {},
     "output_type": "display_data"
    }
   ],
   "source": [
    "sns.countplot(data = df, x = 'skill_level', hue = 'winner')"
   ]
  },
  {
   "cell_type": "markdown",
   "id": "3e60bb22",
   "metadata": {
    "papermill": {
     "duration": 0.037259,
     "end_time": "2023-07-06T20:18:06.771883",
     "exception": false,
     "start_time": "2023-07-06T20:18:06.734624",
     "status": "completed"
    },
    "tags": []
   },
   "source": [
    "As we can see, excluding the Expert skill_level, those who play with white has a slightly higher chance of winning compared to those who play with the black pieces. From pure visual observation as well, it seems to look like at the Beginner level, there are more definitive games (not draws) compared to the other skill levels. Let us verify this:"
   ]
  },
  {
   "cell_type": "code",
   "execution_count": 29,
   "id": "6877ddd6",
   "metadata": {
    "execution": {
     "iopub.execute_input": "2023-07-06T20:18:06.850953Z",
     "iopub.status.busy": "2023-07-06T20:18:06.850154Z",
     "iopub.status.idle": "2023-07-06T20:18:06.857112Z",
     "shell.execute_reply": "2023-07-06T20:18:06.856320Z"
    },
    "papermill": {
     "duration": 0.049349,
     "end_time": "2023-07-06T20:18:06.859079",
     "exception": false,
     "start_time": "2023-07-06T20:18:06.809730",
     "status": "completed"
    },
    "tags": []
   },
   "outputs": [],
   "source": [
    "def winner_by_skill(df, skill):\n",
    "    \"\"\"This function takes in dataframe df and skill level as skill. Then returns the values of total games that started as opening as total, as well as the total number games where white is the winner, black is the winner, and ended as a draw as the variables white, black, and draw respectively.\"\"\"\n",
    "    total = len(df[df['skill_level'] == skill])\n",
    "    white = len(df[(df['skill_level'] == skill) & (df['winner'] == 'White')])\n",
    "    black = len(df[(df['skill_level'] == skill) & (df['winner'] == 'Black')])\n",
    "    draw = len(df[(df['skill_level'] == skill) & (df['winner'] == 'Draw')])\n",
    "    return total, white, black, draw"
   ]
  },
  {
   "cell_type": "code",
   "execution_count": 30,
   "id": "b68fa399",
   "metadata": {
    "execution": {
     "iopub.execute_input": "2023-07-06T20:18:06.935791Z",
     "iopub.status.busy": "2023-07-06T20:18:06.935352Z",
     "iopub.status.idle": "2023-07-06T20:18:06.942480Z",
     "shell.execute_reply": "2023-07-06T20:18:06.941443Z"
    },
    "papermill": {
     "duration": 0.04841,
     "end_time": "2023-07-06T20:18:06.944753",
     "exception": false,
     "start_time": "2023-07-06T20:18:06.896343",
     "status": "completed"
    },
    "tags": []
   },
   "outputs": [],
   "source": [
    "result_by_skill = pd.DataFrame(columns=['White (%)', 'Black (%)', 'Draw (%)'])"
   ]
  },
  {
   "cell_type": "code",
   "execution_count": 31,
   "id": "393c2ca1",
   "metadata": {
    "execution": {
     "iopub.execute_input": "2023-07-06T20:18:07.022470Z",
     "iopub.status.busy": "2023-07-06T20:18:07.022038Z",
     "iopub.status.idle": "2023-07-06T20:18:07.161033Z",
     "shell.execute_reply": "2023-07-06T20:18:07.159949Z"
    },
    "papermill": {
     "duration": 0.18077,
     "end_time": "2023-07-06T20:18:07.163719",
     "exception": false,
     "start_time": "2023-07-06T20:18:06.982949",
     "status": "completed"
    },
    "tags": []
   },
   "outputs": [],
   "source": [
    "for skill in df['skill_level'].unique():\n",
    "    total, white, black, draw = winner_by_skill(df, skill)\n",
    "    result_by_skill.loc[skill] = [round((white/total)*100,2),\n",
    "                                  round((black/total)*100,2),\n",
    "                                  round((draw/total)*100,2)]"
   ]
  },
  {
   "cell_type": "code",
   "execution_count": 32,
   "id": "3d2ba2ca",
   "metadata": {
    "execution": {
     "iopub.execute_input": "2023-07-06T20:18:07.240918Z",
     "iopub.status.busy": "2023-07-06T20:18:07.240507Z",
     "iopub.status.idle": "2023-07-06T20:18:07.253014Z",
     "shell.execute_reply": "2023-07-06T20:18:07.251855Z"
    },
    "papermill": {
     "duration": 0.054441,
     "end_time": "2023-07-06T20:18:07.255448",
     "exception": false,
     "start_time": "2023-07-06T20:18:07.201007",
     "status": "completed"
    },
    "tags": []
   },
   "outputs": [
    {
     "data": {
      "text/html": [
       "<div>\n",
       "<style scoped>\n",
       "    .dataframe tbody tr th:only-of-type {\n",
       "        vertical-align: middle;\n",
       "    }\n",
       "\n",
       "    .dataframe tbody tr th {\n",
       "        vertical-align: top;\n",
       "    }\n",
       "\n",
       "    .dataframe thead th {\n",
       "        text-align: right;\n",
       "    }\n",
       "</style>\n",
       "<table border=\"1\" class=\"dataframe\">\n",
       "  <thead>\n",
       "    <tr style=\"text-align: right;\">\n",
       "      <th></th>\n",
       "      <th>White (%)</th>\n",
       "      <th>Black (%)</th>\n",
       "      <th>Draw (%)</th>\n",
       "    </tr>\n",
       "  </thead>\n",
       "  <tbody>\n",
       "    <tr>\n",
       "      <th>Intermediate</th>\n",
       "      <td>50.38</td>\n",
       "      <td>45.42</td>\n",
       "      <td>4.20</td>\n",
       "    </tr>\n",
       "    <tr>\n",
       "      <th>Beginner</th>\n",
       "      <td>50.04</td>\n",
       "      <td>44.84</td>\n",
       "      <td>5.12</td>\n",
       "    </tr>\n",
       "    <tr>\n",
       "      <th>Advanced</th>\n",
       "      <td>48.35</td>\n",
       "      <td>45.70</td>\n",
       "      <td>5.95</td>\n",
       "    </tr>\n",
       "    <tr>\n",
       "      <th>Expert</th>\n",
       "      <td>44.44</td>\n",
       "      <td>42.59</td>\n",
       "      <td>12.96</td>\n",
       "    </tr>\n",
       "  </tbody>\n",
       "</table>\n",
       "</div>"
      ],
      "text/plain": [
       "              White (%)  Black (%)  Draw (%)\n",
       "Intermediate      50.38      45.42      4.20\n",
       "Beginner          50.04      44.84      5.12\n",
       "Advanced          48.35      45.70      5.95\n",
       "Expert            44.44      42.59     12.96"
      ]
     },
     "execution_count": 32,
     "metadata": {},
     "output_type": "execute_result"
    }
   ],
   "source": [
    "result_by_skill"
   ]
  },
  {
   "cell_type": "markdown",
   "id": "c2f3f6b3",
   "metadata": {
    "papermill": {
     "duration": 0.036847,
     "end_time": "2023-07-06T20:18:07.330264",
     "exception": false,
     "start_time": "2023-07-06T20:18:07.293417",
     "status": "completed"
    },
    "tags": []
   },
   "source": [
    "As expected, the beginner level has the highest definitive games. Conversely, the expert level has the highest number of draws which is expected in chess as at the highest level of the game, both players know the best possible moves which often leads to a draw. Also, these numbers prove that white does have a slightly higher win rate compared to black.As expected, the beginner level has the highest definitive games. Conversely, the expert level has the highest number of draws which is expected in chess as at the highest level of the game, both players know the best possible moves which often leads to a draw. Also, these numbers prove that white does have a slightly higher win rate compared to black.\n",
    "\n",
    "# Data Cleaning\n",
    "\n",
    "I will first start by getting rid of features that I believe to be redundant in creating any type of model regarding the game of chess. This includes the player ids as I am not aiming to analyze individual skill, rather the connection between openings, colors, results, and other aspects of chess as a whole. Later, I will be creating a model to predict the result of the game based on the other features. I will now go through the data cleaning process and get rid of unwanted data:"
   ]
  },
  {
   "cell_type": "code",
   "execution_count": 33,
   "id": "89b0c7ad",
   "metadata": {
    "execution": {
     "iopub.execute_input": "2023-07-06T20:18:07.408221Z",
     "iopub.status.busy": "2023-07-06T20:18:07.407839Z",
     "iopub.status.idle": "2023-07-06T20:18:07.429322Z",
     "shell.execute_reply": "2023-07-06T20:18:07.428261Z"
    },
    "papermill": {
     "duration": 0.063771,
     "end_time": "2023-07-06T20:18:07.431825",
     "exception": false,
     "start_time": "2023-07-06T20:18:07.368054",
     "status": "completed"
    },
    "tags": []
   },
   "outputs": [
    {
     "data": {
      "text/html": [
       "<div>\n",
       "<style scoped>\n",
       "    .dataframe tbody tr th:only-of-type {\n",
       "        vertical-align: middle;\n",
       "    }\n",
       "\n",
       "    .dataframe tbody tr th {\n",
       "        vertical-align: top;\n",
       "    }\n",
       "\n",
       "    .dataframe thead th {\n",
       "        text-align: right;\n",
       "    }\n",
       "</style>\n",
       "<table border=\"1\" class=\"dataframe\">\n",
       "  <thead>\n",
       "    <tr style=\"text-align: right;\">\n",
       "      <th></th>\n",
       "      <th>game_id</th>\n",
       "      <th>rated</th>\n",
       "      <th>turns</th>\n",
       "      <th>victory_status</th>\n",
       "      <th>winner</th>\n",
       "      <th>time_increment</th>\n",
       "      <th>white_id</th>\n",
       "      <th>white_rating</th>\n",
       "      <th>black_id</th>\n",
       "      <th>black_rating</th>\n",
       "      <th>moves</th>\n",
       "      <th>opening_code</th>\n",
       "      <th>opening_moves</th>\n",
       "      <th>opening_fullname</th>\n",
       "      <th>opening_shortname</th>\n",
       "      <th>opening_response</th>\n",
       "      <th>opening_variation</th>\n",
       "      <th>average_rating</th>\n",
       "      <th>skill_level</th>\n",
       "    </tr>\n",
       "  </thead>\n",
       "  <tbody>\n",
       "    <tr>\n",
       "      <th>0</th>\n",
       "      <td>1</td>\n",
       "      <td>False</td>\n",
       "      <td>13</td>\n",
       "      <td>Out of Time</td>\n",
       "      <td>White</td>\n",
       "      <td>15+2</td>\n",
       "      <td>bourgris</td>\n",
       "      <td>1500</td>\n",
       "      <td>a-00</td>\n",
       "      <td>1191</td>\n",
       "      <td>d4 d5 c4 c6 cxd5 e6 dxe6 fxe6 Nf3 Bb4+ Nc3 Ba5...</td>\n",
       "      <td>D10</td>\n",
       "      <td>5</td>\n",
       "      <td>Slav Defense: Exchange Variation</td>\n",
       "      <td>Slav Defense</td>\n",
       "      <td>NaN</td>\n",
       "      <td>Exchange Variation</td>\n",
       "      <td>1345.5</td>\n",
       "      <td>Intermediate</td>\n",
       "    </tr>\n",
       "    <tr>\n",
       "      <th>1</th>\n",
       "      <td>2</td>\n",
       "      <td>True</td>\n",
       "      <td>16</td>\n",
       "      <td>Resign</td>\n",
       "      <td>Black</td>\n",
       "      <td>5+10</td>\n",
       "      <td>a-00</td>\n",
       "      <td>1322</td>\n",
       "      <td>skinnerua</td>\n",
       "      <td>1261</td>\n",
       "      <td>d4 Nc6 e4 e5 f4 f6 dxe5 fxe5 fxe5 Nxe5 Qd4 Nc6...</td>\n",
       "      <td>B00</td>\n",
       "      <td>4</td>\n",
       "      <td>Nimzowitsch Defense: Kennedy Variation</td>\n",
       "      <td>Nimzowitsch Defense</td>\n",
       "      <td>NaN</td>\n",
       "      <td>Kennedy Variation</td>\n",
       "      <td>1291.5</td>\n",
       "      <td>Intermediate</td>\n",
       "    </tr>\n",
       "    <tr>\n",
       "      <th>2</th>\n",
       "      <td>3</td>\n",
       "      <td>True</td>\n",
       "      <td>61</td>\n",
       "      <td>Mate</td>\n",
       "      <td>White</td>\n",
       "      <td>5+10</td>\n",
       "      <td>ischia</td>\n",
       "      <td>1496</td>\n",
       "      <td>a-00</td>\n",
       "      <td>1500</td>\n",
       "      <td>e4 e5 d3 d6 Be3 c6 Be2 b5 Nd2 a5 a4 c5 axb5 Nc...</td>\n",
       "      <td>C20</td>\n",
       "      <td>3</td>\n",
       "      <td>King's Pawn Game: Leonardis Variation</td>\n",
       "      <td>King's Pawn Game</td>\n",
       "      <td>NaN</td>\n",
       "      <td>Leonardis Variation</td>\n",
       "      <td>1498.0</td>\n",
       "      <td>Intermediate</td>\n",
       "    </tr>\n",
       "    <tr>\n",
       "      <th>3</th>\n",
       "      <td>4</td>\n",
       "      <td>True</td>\n",
       "      <td>61</td>\n",
       "      <td>Mate</td>\n",
       "      <td>White</td>\n",
       "      <td>20+0</td>\n",
       "      <td>daniamurashov</td>\n",
       "      <td>1439</td>\n",
       "      <td>adivanov2009</td>\n",
       "      <td>1454</td>\n",
       "      <td>d4 d5 Nf3 Bf5 Nc3 Nf6 Bf4 Ng4 e3 Nc6 Be2 Qd7 O...</td>\n",
       "      <td>D02</td>\n",
       "      <td>3</td>\n",
       "      <td>Queen's Pawn Game: Zukertort Variation</td>\n",
       "      <td>Queen's Pawn Game</td>\n",
       "      <td>NaN</td>\n",
       "      <td>Zukertort Variation</td>\n",
       "      <td>1446.5</td>\n",
       "      <td>Intermediate</td>\n",
       "    </tr>\n",
       "    <tr>\n",
       "      <th>4</th>\n",
       "      <td>5</td>\n",
       "      <td>True</td>\n",
       "      <td>95</td>\n",
       "      <td>Mate</td>\n",
       "      <td>White</td>\n",
       "      <td>30+3</td>\n",
       "      <td>nik221107</td>\n",
       "      <td>1523</td>\n",
       "      <td>adivanov2009</td>\n",
       "      <td>1469</td>\n",
       "      <td>e4 e5 Nf3 d6 d4 Nc6 d5 Nb4 a3 Na6 Nc3 Be7 b4 N...</td>\n",
       "      <td>C41</td>\n",
       "      <td>5</td>\n",
       "      <td>Philidor Defense</td>\n",
       "      <td>Philidor Defense</td>\n",
       "      <td>NaN</td>\n",
       "      <td>NaN</td>\n",
       "      <td>1496.0</td>\n",
       "      <td>Intermediate</td>\n",
       "    </tr>\n",
       "  </tbody>\n",
       "</table>\n",
       "</div>"
      ],
      "text/plain": [
       "   game_id  rated  turns victory_status winner time_increment       white_id  \\\n",
       "0        1  False     13    Out of Time  White           15+2       bourgris   \n",
       "1        2   True     16         Resign  Black           5+10           a-00   \n",
       "2        3   True     61           Mate  White           5+10         ischia   \n",
       "3        4   True     61           Mate  White           20+0  daniamurashov   \n",
       "4        5   True     95           Mate  White           30+3      nik221107   \n",
       "\n",
       "   white_rating      black_id  black_rating  \\\n",
       "0          1500          a-00          1191   \n",
       "1          1322     skinnerua          1261   \n",
       "2          1496          a-00          1500   \n",
       "3          1439  adivanov2009          1454   \n",
       "4          1523  adivanov2009          1469   \n",
       "\n",
       "                                               moves opening_code  \\\n",
       "0  d4 d5 c4 c6 cxd5 e6 dxe6 fxe6 Nf3 Bb4+ Nc3 Ba5...          D10   \n",
       "1  d4 Nc6 e4 e5 f4 f6 dxe5 fxe5 fxe5 Nxe5 Qd4 Nc6...          B00   \n",
       "2  e4 e5 d3 d6 Be3 c6 Be2 b5 Nd2 a5 a4 c5 axb5 Nc...          C20   \n",
       "3  d4 d5 Nf3 Bf5 Nc3 Nf6 Bf4 Ng4 e3 Nc6 Be2 Qd7 O...          D02   \n",
       "4  e4 e5 Nf3 d6 d4 Nc6 d5 Nb4 a3 Na6 Nc3 Be7 b4 N...          C41   \n",
       "\n",
       "   opening_moves                        opening_fullname    opening_shortname  \\\n",
       "0              5        Slav Defense: Exchange Variation         Slav Defense   \n",
       "1              4  Nimzowitsch Defense: Kennedy Variation  Nimzowitsch Defense   \n",
       "2              3   King's Pawn Game: Leonardis Variation     King's Pawn Game   \n",
       "3              3  Queen's Pawn Game: Zukertort Variation    Queen's Pawn Game   \n",
       "4              5                        Philidor Defense     Philidor Defense   \n",
       "\n",
       "  opening_response    opening_variation  average_rating   skill_level  \n",
       "0              NaN   Exchange Variation          1345.5  Intermediate  \n",
       "1              NaN    Kennedy Variation          1291.5  Intermediate  \n",
       "2              NaN  Leonardis Variation          1498.0  Intermediate  \n",
       "3              NaN  Zukertort Variation          1446.5  Intermediate  \n",
       "4              NaN                  NaN          1496.0  Intermediate  "
      ]
     },
     "execution_count": 33,
     "metadata": {},
     "output_type": "execute_result"
    }
   ],
   "source": [
    "df.head()"
   ]
  },
  {
   "cell_type": "code",
   "execution_count": 34,
   "id": "072cf61c",
   "metadata": {
    "execution": {
     "iopub.execute_input": "2023-07-06T20:18:07.510521Z",
     "iopub.status.busy": "2023-07-06T20:18:07.510115Z",
     "iopub.status.idle": "2023-07-06T20:18:07.518541Z",
     "shell.execute_reply": "2023-07-06T20:18:07.517435Z"
    },
    "papermill": {
     "duration": 0.050777,
     "end_time": "2023-07-06T20:18:07.520901",
     "exception": false,
     "start_time": "2023-07-06T20:18:07.470124",
     "status": "completed"
    },
    "tags": []
   },
   "outputs": [],
   "source": [
    "df = df.drop(['game_id','white_id', 'black_id'], axis = 1)"
   ]
  },
  {
   "cell_type": "markdown",
   "id": "bf617ff7",
   "metadata": {
    "papermill": {
     "duration": 0.038045,
     "end_time": "2023-07-06T20:18:07.597773",
     "exception": false,
     "start_time": "2023-07-06T20:18:07.559728",
     "status": "completed"
    },
    "tags": []
   },
   "source": [
    "I will also be dropping the moves as specific move orders are not being focused on in this analysis."
   ]
  },
  {
   "cell_type": "code",
   "execution_count": 35,
   "id": "9b5ad39a",
   "metadata": {
    "execution": {
     "iopub.execute_input": "2023-07-06T20:18:07.675606Z",
     "iopub.status.busy": "2023-07-06T20:18:07.675188Z",
     "iopub.status.idle": "2023-07-06T20:18:07.685222Z",
     "shell.execute_reply": "2023-07-06T20:18:07.684318Z"
    },
    "papermill": {
     "duration": 0.051441,
     "end_time": "2023-07-06T20:18:07.687604",
     "exception": false,
     "start_time": "2023-07-06T20:18:07.636163",
     "status": "completed"
    },
    "tags": []
   },
   "outputs": [],
   "source": [
    "df = df.drop('moves', axis = 1)"
   ]
  },
  {
   "cell_type": "markdown",
   "id": "08974266",
   "metadata": {
    "papermill": {
     "duration": 0.037216,
     "end_time": "2023-07-06T20:18:07.762494",
     "exception": false,
     "start_time": "2023-07-06T20:18:07.725278",
     "status": "completed"
    },
    "tags": []
   },
   "source": [
    "Furthermore, opening_code seems redundant as well so it will also be dropped. And opening_fullname is essentially a combination of opening_shortname and opening_variation so I could either drop the full name or the combination of shortname and variation. I think I'll drop the fullname because the short name is more often used in the community and is therefore easier to understand and work with."
   ]
  },
  {
   "cell_type": "code",
   "execution_count": 36,
   "id": "078c46db",
   "metadata": {
    "execution": {
     "iopub.execute_input": "2023-07-06T20:18:07.840059Z",
     "iopub.status.busy": "2023-07-06T20:18:07.839669Z",
     "iopub.status.idle": "2023-07-06T20:18:07.847505Z",
     "shell.execute_reply": "2023-07-06T20:18:07.846626Z"
    },
    "papermill": {
     "duration": 0.049696,
     "end_time": "2023-07-06T20:18:07.849861",
     "exception": false,
     "start_time": "2023-07-06T20:18:07.800165",
     "status": "completed"
    },
    "tags": []
   },
   "outputs": [],
   "source": [
    "df = df.drop(['opening_code', 'opening_fullname'], axis = 1)"
   ]
  },
  {
   "cell_type": "code",
   "execution_count": 37,
   "id": "07e01de8",
   "metadata": {
    "execution": {
     "iopub.execute_input": "2023-07-06T20:18:07.928508Z",
     "iopub.status.busy": "2023-07-06T20:18:07.928100Z",
     "iopub.status.idle": "2023-07-06T20:18:07.945986Z",
     "shell.execute_reply": "2023-07-06T20:18:07.944915Z"
    },
    "papermill": {
     "duration": 0.060093,
     "end_time": "2023-07-06T20:18:07.948214",
     "exception": false,
     "start_time": "2023-07-06T20:18:07.888121",
     "status": "completed"
    },
    "tags": []
   },
   "outputs": [
    {
     "data": {
      "text/html": [
       "<div>\n",
       "<style scoped>\n",
       "    .dataframe tbody tr th:only-of-type {\n",
       "        vertical-align: middle;\n",
       "    }\n",
       "\n",
       "    .dataframe tbody tr th {\n",
       "        vertical-align: top;\n",
       "    }\n",
       "\n",
       "    .dataframe thead th {\n",
       "        text-align: right;\n",
       "    }\n",
       "</style>\n",
       "<table border=\"1\" class=\"dataframe\">\n",
       "  <thead>\n",
       "    <tr style=\"text-align: right;\">\n",
       "      <th></th>\n",
       "      <th>rated</th>\n",
       "      <th>turns</th>\n",
       "      <th>victory_status</th>\n",
       "      <th>winner</th>\n",
       "      <th>time_increment</th>\n",
       "      <th>white_rating</th>\n",
       "      <th>black_rating</th>\n",
       "      <th>opening_moves</th>\n",
       "      <th>opening_shortname</th>\n",
       "      <th>opening_response</th>\n",
       "      <th>opening_variation</th>\n",
       "      <th>average_rating</th>\n",
       "      <th>skill_level</th>\n",
       "    </tr>\n",
       "  </thead>\n",
       "  <tbody>\n",
       "    <tr>\n",
       "      <th>0</th>\n",
       "      <td>False</td>\n",
       "      <td>13</td>\n",
       "      <td>Out of Time</td>\n",
       "      <td>White</td>\n",
       "      <td>15+2</td>\n",
       "      <td>1500</td>\n",
       "      <td>1191</td>\n",
       "      <td>5</td>\n",
       "      <td>Slav Defense</td>\n",
       "      <td>NaN</td>\n",
       "      <td>Exchange Variation</td>\n",
       "      <td>1345.5</td>\n",
       "      <td>Intermediate</td>\n",
       "    </tr>\n",
       "    <tr>\n",
       "      <th>1</th>\n",
       "      <td>True</td>\n",
       "      <td>16</td>\n",
       "      <td>Resign</td>\n",
       "      <td>Black</td>\n",
       "      <td>5+10</td>\n",
       "      <td>1322</td>\n",
       "      <td>1261</td>\n",
       "      <td>4</td>\n",
       "      <td>Nimzowitsch Defense</td>\n",
       "      <td>NaN</td>\n",
       "      <td>Kennedy Variation</td>\n",
       "      <td>1291.5</td>\n",
       "      <td>Intermediate</td>\n",
       "    </tr>\n",
       "    <tr>\n",
       "      <th>2</th>\n",
       "      <td>True</td>\n",
       "      <td>61</td>\n",
       "      <td>Mate</td>\n",
       "      <td>White</td>\n",
       "      <td>5+10</td>\n",
       "      <td>1496</td>\n",
       "      <td>1500</td>\n",
       "      <td>3</td>\n",
       "      <td>King's Pawn Game</td>\n",
       "      <td>NaN</td>\n",
       "      <td>Leonardis Variation</td>\n",
       "      <td>1498.0</td>\n",
       "      <td>Intermediate</td>\n",
       "    </tr>\n",
       "    <tr>\n",
       "      <th>3</th>\n",
       "      <td>True</td>\n",
       "      <td>61</td>\n",
       "      <td>Mate</td>\n",
       "      <td>White</td>\n",
       "      <td>20+0</td>\n",
       "      <td>1439</td>\n",
       "      <td>1454</td>\n",
       "      <td>3</td>\n",
       "      <td>Queen's Pawn Game</td>\n",
       "      <td>NaN</td>\n",
       "      <td>Zukertort Variation</td>\n",
       "      <td>1446.5</td>\n",
       "      <td>Intermediate</td>\n",
       "    </tr>\n",
       "    <tr>\n",
       "      <th>4</th>\n",
       "      <td>True</td>\n",
       "      <td>95</td>\n",
       "      <td>Mate</td>\n",
       "      <td>White</td>\n",
       "      <td>30+3</td>\n",
       "      <td>1523</td>\n",
       "      <td>1469</td>\n",
       "      <td>5</td>\n",
       "      <td>Philidor Defense</td>\n",
       "      <td>NaN</td>\n",
       "      <td>NaN</td>\n",
       "      <td>1496.0</td>\n",
       "      <td>Intermediate</td>\n",
       "    </tr>\n",
       "  </tbody>\n",
       "</table>\n",
       "</div>"
      ],
      "text/plain": [
       "   rated  turns victory_status winner time_increment  white_rating  \\\n",
       "0  False     13    Out of Time  White           15+2          1500   \n",
       "1   True     16         Resign  Black           5+10          1322   \n",
       "2   True     61           Mate  White           5+10          1496   \n",
       "3   True     61           Mate  White           20+0          1439   \n",
       "4   True     95           Mate  White           30+3          1523   \n",
       "\n",
       "   black_rating  opening_moves    opening_shortname opening_response  \\\n",
       "0          1191              5         Slav Defense              NaN   \n",
       "1          1261              4  Nimzowitsch Defense              NaN   \n",
       "2          1500              3     King's Pawn Game              NaN   \n",
       "3          1454              3    Queen's Pawn Game              NaN   \n",
       "4          1469              5     Philidor Defense              NaN   \n",
       "\n",
       "     opening_variation  average_rating   skill_level  \n",
       "0   Exchange Variation          1345.5  Intermediate  \n",
       "1    Kennedy Variation          1291.5  Intermediate  \n",
       "2  Leonardis Variation          1498.0  Intermediate  \n",
       "3  Zukertort Variation          1446.5  Intermediate  \n",
       "4                  NaN          1496.0  Intermediate  "
      ]
     },
     "execution_count": 37,
     "metadata": {},
     "output_type": "execute_result"
    }
   ],
   "source": [
    "df.head()"
   ]
  },
  {
   "cell_type": "code",
   "execution_count": 38,
   "id": "66db76be",
   "metadata": {
    "execution": {
     "iopub.execute_input": "2023-07-06T20:18:08.027553Z",
     "iopub.status.busy": "2023-07-06T20:18:08.026742Z",
     "iopub.status.idle": "2023-07-06T20:18:08.081317Z",
     "shell.execute_reply": "2023-07-06T20:18:08.080098Z"
    },
    "papermill": {
     "duration": 0.096925,
     "end_time": "2023-07-06T20:18:08.083814",
     "exception": false,
     "start_time": "2023-07-06T20:18:07.986889",
     "status": "completed"
    },
    "tags": []
   },
   "outputs": [
    {
     "data": {
      "text/plain": [
       "rated                    0\n",
       "turns                    0\n",
       "victory_status           0\n",
       "winner                   0\n",
       "time_increment           0\n",
       "white_rating             0\n",
       "black_rating             0\n",
       "opening_moves            0\n",
       "opening_shortname        0\n",
       "opening_response     18851\n",
       "opening_variation     5660\n",
       "average_rating           0\n",
       "skill_level              0\n",
       "dtype: int64"
      ]
     },
     "execution_count": 38,
     "metadata": {},
     "output_type": "execute_result"
    }
   ],
   "source": [
    "df.isnull().sum()"
   ]
  },
  {
   "cell_type": "code",
   "execution_count": 39,
   "id": "94cbe41e",
   "metadata": {
    "execution": {
     "iopub.execute_input": "2023-07-06T20:18:08.163983Z",
     "iopub.status.busy": "2023-07-06T20:18:08.163611Z",
     "iopub.status.idle": "2023-07-06T20:18:08.169374Z",
     "shell.execute_reply": "2023-07-06T20:18:08.168622Z"
    },
    "papermill": {
     "duration": 0.04839,
     "end_time": "2023-07-06T20:18:08.171539",
     "exception": false,
     "start_time": "2023-07-06T20:18:08.123149",
     "status": "completed"
    },
    "tags": []
   },
   "outputs": [
    {
     "data": {
      "text/plain": [
       "20058"
      ]
     },
     "execution_count": 39,
     "metadata": {},
     "output_type": "execute_result"
    }
   ],
   "source": [
    "len(df)"
   ]
  },
  {
   "cell_type": "code",
   "execution_count": 40,
   "id": "1ac6ddf8",
   "metadata": {
    "execution": {
     "iopub.execute_input": "2023-07-06T20:18:08.252668Z",
     "iopub.status.busy": "2023-07-06T20:18:08.252248Z",
     "iopub.status.idle": "2023-07-06T20:18:08.260924Z",
     "shell.execute_reply": "2023-07-06T20:18:08.259800Z"
    },
    "papermill": {
     "duration": 0.052512,
     "end_time": "2023-07-06T20:18:08.263549",
     "exception": false,
     "start_time": "2023-07-06T20:18:08.211037",
     "status": "completed"
    },
    "tags": []
   },
   "outputs": [
    {
     "data": {
      "text/plain": [
       "array([nan, 'Refused', 'Accepted', 'Declined'], dtype=object)"
      ]
     },
     "execution_count": 40,
     "metadata": {},
     "output_type": "execute_result"
    }
   ],
   "source": [
    "df['opening_response'].unique()"
   ]
  },
  {
   "cell_type": "markdown",
   "id": "eb142d5a",
   "metadata": {
    "papermill": {
     "duration": 0.03883,
     "end_time": "2023-07-06T20:18:08.341988",
     "exception": false,
     "start_time": "2023-07-06T20:18:08.303158",
     "status": "completed"
    },
    "tags": []
   },
   "source": [
    "As we can see, most of the openings do not have an opening_response. Additionally, the only options in opening_response are 'Refused', 'Accepted', and 'Declined' for the gambit openings. I believe that this feature is unneccessary."
   ]
  },
  {
   "cell_type": "code",
   "execution_count": 41,
   "id": "f10ca955",
   "metadata": {
    "execution": {
     "iopub.execute_input": "2023-07-06T20:18:08.423004Z",
     "iopub.status.busy": "2023-07-06T20:18:08.422606Z",
     "iopub.status.idle": "2023-07-06T20:18:08.430045Z",
     "shell.execute_reply": "2023-07-06T20:18:08.428919Z"
    },
    "papermill": {
     "duration": 0.050962,
     "end_time": "2023-07-06T20:18:08.432620",
     "exception": false,
     "start_time": "2023-07-06T20:18:08.381658",
     "status": "completed"
    },
    "tags": []
   },
   "outputs": [],
   "source": [
    "df = df.drop('opening_response', axis = 1)"
   ]
  },
  {
   "cell_type": "code",
   "execution_count": 42,
   "id": "7fd27d83",
   "metadata": {
    "execution": {
     "iopub.execute_input": "2023-07-06T20:18:08.512503Z",
     "iopub.status.busy": "2023-07-06T20:18:08.511997Z",
     "iopub.status.idle": "2023-07-06T20:18:08.529974Z",
     "shell.execute_reply": "2023-07-06T20:18:08.528838Z"
    },
    "papermill": {
     "duration": 0.060427,
     "end_time": "2023-07-06T20:18:08.532246",
     "exception": false,
     "start_time": "2023-07-06T20:18:08.471819",
     "status": "completed"
    },
    "tags": []
   },
   "outputs": [
    {
     "data": {
      "text/html": [
       "<div>\n",
       "<style scoped>\n",
       "    .dataframe tbody tr th:only-of-type {\n",
       "        vertical-align: middle;\n",
       "    }\n",
       "\n",
       "    .dataframe tbody tr th {\n",
       "        vertical-align: top;\n",
       "    }\n",
       "\n",
       "    .dataframe thead th {\n",
       "        text-align: right;\n",
       "    }\n",
       "</style>\n",
       "<table border=\"1\" class=\"dataframe\">\n",
       "  <thead>\n",
       "    <tr style=\"text-align: right;\">\n",
       "      <th></th>\n",
       "      <th>rated</th>\n",
       "      <th>turns</th>\n",
       "      <th>victory_status</th>\n",
       "      <th>winner</th>\n",
       "      <th>time_increment</th>\n",
       "      <th>white_rating</th>\n",
       "      <th>black_rating</th>\n",
       "      <th>opening_moves</th>\n",
       "      <th>opening_shortname</th>\n",
       "      <th>opening_variation</th>\n",
       "      <th>average_rating</th>\n",
       "      <th>skill_level</th>\n",
       "    </tr>\n",
       "  </thead>\n",
       "  <tbody>\n",
       "    <tr>\n",
       "      <th>0</th>\n",
       "      <td>False</td>\n",
       "      <td>13</td>\n",
       "      <td>Out of Time</td>\n",
       "      <td>White</td>\n",
       "      <td>15+2</td>\n",
       "      <td>1500</td>\n",
       "      <td>1191</td>\n",
       "      <td>5</td>\n",
       "      <td>Slav Defense</td>\n",
       "      <td>Exchange Variation</td>\n",
       "      <td>1345.5</td>\n",
       "      <td>Intermediate</td>\n",
       "    </tr>\n",
       "    <tr>\n",
       "      <th>1</th>\n",
       "      <td>True</td>\n",
       "      <td>16</td>\n",
       "      <td>Resign</td>\n",
       "      <td>Black</td>\n",
       "      <td>5+10</td>\n",
       "      <td>1322</td>\n",
       "      <td>1261</td>\n",
       "      <td>4</td>\n",
       "      <td>Nimzowitsch Defense</td>\n",
       "      <td>Kennedy Variation</td>\n",
       "      <td>1291.5</td>\n",
       "      <td>Intermediate</td>\n",
       "    </tr>\n",
       "    <tr>\n",
       "      <th>2</th>\n",
       "      <td>True</td>\n",
       "      <td>61</td>\n",
       "      <td>Mate</td>\n",
       "      <td>White</td>\n",
       "      <td>5+10</td>\n",
       "      <td>1496</td>\n",
       "      <td>1500</td>\n",
       "      <td>3</td>\n",
       "      <td>King's Pawn Game</td>\n",
       "      <td>Leonardis Variation</td>\n",
       "      <td>1498.0</td>\n",
       "      <td>Intermediate</td>\n",
       "    </tr>\n",
       "    <tr>\n",
       "      <th>3</th>\n",
       "      <td>True</td>\n",
       "      <td>61</td>\n",
       "      <td>Mate</td>\n",
       "      <td>White</td>\n",
       "      <td>20+0</td>\n",
       "      <td>1439</td>\n",
       "      <td>1454</td>\n",
       "      <td>3</td>\n",
       "      <td>Queen's Pawn Game</td>\n",
       "      <td>Zukertort Variation</td>\n",
       "      <td>1446.5</td>\n",
       "      <td>Intermediate</td>\n",
       "    </tr>\n",
       "    <tr>\n",
       "      <th>4</th>\n",
       "      <td>True</td>\n",
       "      <td>95</td>\n",
       "      <td>Mate</td>\n",
       "      <td>White</td>\n",
       "      <td>30+3</td>\n",
       "      <td>1523</td>\n",
       "      <td>1469</td>\n",
       "      <td>5</td>\n",
       "      <td>Philidor Defense</td>\n",
       "      <td>NaN</td>\n",
       "      <td>1496.0</td>\n",
       "      <td>Intermediate</td>\n",
       "    </tr>\n",
       "  </tbody>\n",
       "</table>\n",
       "</div>"
      ],
      "text/plain": [
       "   rated  turns victory_status winner time_increment  white_rating  \\\n",
       "0  False     13    Out of Time  White           15+2          1500   \n",
       "1   True     16         Resign  Black           5+10          1322   \n",
       "2   True     61           Mate  White           5+10          1496   \n",
       "3   True     61           Mate  White           20+0          1439   \n",
       "4   True     95           Mate  White           30+3          1523   \n",
       "\n",
       "   black_rating  opening_moves    opening_shortname    opening_variation  \\\n",
       "0          1191              5         Slav Defense   Exchange Variation   \n",
       "1          1261              4  Nimzowitsch Defense    Kennedy Variation   \n",
       "2          1500              3     King's Pawn Game  Leonardis Variation   \n",
       "3          1454              3    Queen's Pawn Game  Zukertort Variation   \n",
       "4          1469              5     Philidor Defense                  NaN   \n",
       "\n",
       "   average_rating   skill_level  \n",
       "0          1345.5  Intermediate  \n",
       "1          1291.5  Intermediate  \n",
       "2          1498.0  Intermediate  \n",
       "3          1446.5  Intermediate  \n",
       "4          1496.0  Intermediate  "
      ]
     },
     "execution_count": 42,
     "metadata": {},
     "output_type": "execute_result"
    }
   ],
   "source": [
    "df.head()"
   ]
  },
  {
   "cell_type": "code",
   "execution_count": 43,
   "id": "36e34aea",
   "metadata": {
    "execution": {
     "iopub.execute_input": "2023-07-06T20:18:08.613303Z",
     "iopub.status.busy": "2023-07-06T20:18:08.612914Z",
     "iopub.status.idle": "2023-07-06T20:18:08.659082Z",
     "shell.execute_reply": "2023-07-06T20:18:08.657942Z"
    },
    "papermill": {
     "duration": 0.090074,
     "end_time": "2023-07-06T20:18:08.661282",
     "exception": false,
     "start_time": "2023-07-06T20:18:08.571208",
     "status": "completed"
    },
    "tags": []
   },
   "outputs": [
    {
     "data": {
      "text/plain": [
       "rated                   0\n",
       "turns                   0\n",
       "victory_status          0\n",
       "winner                  0\n",
       "time_increment          0\n",
       "white_rating            0\n",
       "black_rating            0\n",
       "opening_moves           0\n",
       "opening_shortname       0\n",
       "opening_variation    5660\n",
       "average_rating          0\n",
       "skill_level             0\n",
       "dtype: int64"
      ]
     },
     "execution_count": 43,
     "metadata": {},
     "output_type": "execute_result"
    }
   ],
   "source": [
    "df.isnull().sum()"
   ]
  },
  {
   "cell_type": "code",
   "execution_count": 44,
   "id": "53f6e3f1",
   "metadata": {
    "execution": {
     "iopub.execute_input": "2023-07-06T20:18:08.741065Z",
     "iopub.status.busy": "2023-07-06T20:18:08.740676Z",
     "iopub.status.idle": "2023-07-06T20:18:08.749623Z",
     "shell.execute_reply": "2023-07-06T20:18:08.748435Z"
    },
    "papermill": {
     "duration": 0.05133,
     "end_time": "2023-07-06T20:18:08.751890",
     "exception": false,
     "start_time": "2023-07-06T20:18:08.700560",
     "status": "completed"
    },
    "tags": []
   },
   "outputs": [
    {
     "data": {
      "text/plain": [
       "615"
      ]
     },
     "execution_count": 44,
     "metadata": {},
     "output_type": "execute_result"
    }
   ],
   "source": [
    "df['opening_variation'].nunique()"
   ]
  },
  {
   "cell_type": "code",
   "execution_count": 45,
   "id": "d9cb881f",
   "metadata": {
    "execution": {
     "iopub.execute_input": "2023-07-06T20:18:08.831757Z",
     "iopub.status.busy": "2023-07-06T20:18:08.831336Z",
     "iopub.status.idle": "2023-07-06T20:18:08.839557Z",
     "shell.execute_reply": "2023-07-06T20:18:08.838656Z"
    },
    "papermill": {
     "duration": 0.05077,
     "end_time": "2023-07-06T20:18:08.841617",
     "exception": false,
     "start_time": "2023-07-06T20:18:08.790847",
     "status": "completed"
    },
    "tags": []
   },
   "outputs": [
    {
     "data": {
      "text/plain": [
       "128"
      ]
     },
     "execution_count": 45,
     "metadata": {},
     "output_type": "execute_result"
    }
   ],
   "source": [
    "df['opening_shortname'].nunique()"
   ]
  },
  {
   "cell_type": "markdown",
   "id": "0680822b",
   "metadata": {
    "papermill": {
     "duration": 0.038992,
     "end_time": "2023-07-06T20:18:08.921345",
     "exception": false,
     "start_time": "2023-07-06T20:18:08.882353",
     "status": "completed"
    },
    "tags": []
   },
   "source": [
    "There are too many variations in opening_variation to keep. It would've been better if we kept the opening_fullname instead. But the point is that the amount of variety (in the sense that they are a lot of opening_fullname that only has one data point) will not be beneficial to any model.\n",
    "\n",
    "Furthermore, there are 5560 games out of 20058 games that do NOT have an opening_variation, which is around 25% of the data. This means that it there are too many of these rows to simply drop them.  Furthermore, there are 5560 games out of 20058 games that do NOT have an opening_variation, which is around 25% of the data. This means that it there are too many of these rows to simply drop them.  \n",
    "\n",
    "Therefore, I will remove the opening_variation feature.Therefore, I will remove the opening_variation feature."
   ]
  },
  {
   "cell_type": "code",
   "execution_count": 46,
   "id": "ffa2f31c",
   "metadata": {
    "execution": {
     "iopub.execute_input": "2023-07-06T20:18:09.000856Z",
     "iopub.status.busy": "2023-07-06T20:18:09.000227Z",
     "iopub.status.idle": "2023-07-06T20:18:09.008044Z",
     "shell.execute_reply": "2023-07-06T20:18:09.006967Z"
    },
    "papermill": {
     "duration": 0.049817,
     "end_time": "2023-07-06T20:18:09.010220",
     "exception": false,
     "start_time": "2023-07-06T20:18:08.960403",
     "status": "completed"
    },
    "tags": []
   },
   "outputs": [],
   "source": [
    "df = df.drop('opening_variation', axis = 1)"
   ]
  },
  {
   "cell_type": "code",
   "execution_count": 47,
   "id": "1dc66f71",
   "metadata": {
    "execution": {
     "iopub.execute_input": "2023-07-06T20:18:09.092554Z",
     "iopub.status.busy": "2023-07-06T20:18:09.092178Z",
     "iopub.status.idle": "2023-07-06T20:18:09.107966Z",
     "shell.execute_reply": "2023-07-06T20:18:09.106940Z"
    },
    "papermill": {
     "duration": 0.059382,
     "end_time": "2023-07-06T20:18:09.110206",
     "exception": false,
     "start_time": "2023-07-06T20:18:09.050824",
     "status": "completed"
    },
    "tags": []
   },
   "outputs": [
    {
     "data": {
      "text/html": [
       "<div>\n",
       "<style scoped>\n",
       "    .dataframe tbody tr th:only-of-type {\n",
       "        vertical-align: middle;\n",
       "    }\n",
       "\n",
       "    .dataframe tbody tr th {\n",
       "        vertical-align: top;\n",
       "    }\n",
       "\n",
       "    .dataframe thead th {\n",
       "        text-align: right;\n",
       "    }\n",
       "</style>\n",
       "<table border=\"1\" class=\"dataframe\">\n",
       "  <thead>\n",
       "    <tr style=\"text-align: right;\">\n",
       "      <th></th>\n",
       "      <th>rated</th>\n",
       "      <th>turns</th>\n",
       "      <th>victory_status</th>\n",
       "      <th>winner</th>\n",
       "      <th>time_increment</th>\n",
       "      <th>white_rating</th>\n",
       "      <th>black_rating</th>\n",
       "      <th>opening_moves</th>\n",
       "      <th>opening_shortname</th>\n",
       "      <th>average_rating</th>\n",
       "      <th>skill_level</th>\n",
       "    </tr>\n",
       "  </thead>\n",
       "  <tbody>\n",
       "    <tr>\n",
       "      <th>0</th>\n",
       "      <td>False</td>\n",
       "      <td>13</td>\n",
       "      <td>Out of Time</td>\n",
       "      <td>White</td>\n",
       "      <td>15+2</td>\n",
       "      <td>1500</td>\n",
       "      <td>1191</td>\n",
       "      <td>5</td>\n",
       "      <td>Slav Defense</td>\n",
       "      <td>1345.5</td>\n",
       "      <td>Intermediate</td>\n",
       "    </tr>\n",
       "    <tr>\n",
       "      <th>1</th>\n",
       "      <td>True</td>\n",
       "      <td>16</td>\n",
       "      <td>Resign</td>\n",
       "      <td>Black</td>\n",
       "      <td>5+10</td>\n",
       "      <td>1322</td>\n",
       "      <td>1261</td>\n",
       "      <td>4</td>\n",
       "      <td>Nimzowitsch Defense</td>\n",
       "      <td>1291.5</td>\n",
       "      <td>Intermediate</td>\n",
       "    </tr>\n",
       "    <tr>\n",
       "      <th>2</th>\n",
       "      <td>True</td>\n",
       "      <td>61</td>\n",
       "      <td>Mate</td>\n",
       "      <td>White</td>\n",
       "      <td>5+10</td>\n",
       "      <td>1496</td>\n",
       "      <td>1500</td>\n",
       "      <td>3</td>\n",
       "      <td>King's Pawn Game</td>\n",
       "      <td>1498.0</td>\n",
       "      <td>Intermediate</td>\n",
       "    </tr>\n",
       "    <tr>\n",
       "      <th>3</th>\n",
       "      <td>True</td>\n",
       "      <td>61</td>\n",
       "      <td>Mate</td>\n",
       "      <td>White</td>\n",
       "      <td>20+0</td>\n",
       "      <td>1439</td>\n",
       "      <td>1454</td>\n",
       "      <td>3</td>\n",
       "      <td>Queen's Pawn Game</td>\n",
       "      <td>1446.5</td>\n",
       "      <td>Intermediate</td>\n",
       "    </tr>\n",
       "    <tr>\n",
       "      <th>4</th>\n",
       "      <td>True</td>\n",
       "      <td>95</td>\n",
       "      <td>Mate</td>\n",
       "      <td>White</td>\n",
       "      <td>30+3</td>\n",
       "      <td>1523</td>\n",
       "      <td>1469</td>\n",
       "      <td>5</td>\n",
       "      <td>Philidor Defense</td>\n",
       "      <td>1496.0</td>\n",
       "      <td>Intermediate</td>\n",
       "    </tr>\n",
       "  </tbody>\n",
       "</table>\n",
       "</div>"
      ],
      "text/plain": [
       "   rated  turns victory_status winner time_increment  white_rating  \\\n",
       "0  False     13    Out of Time  White           15+2          1500   \n",
       "1   True     16         Resign  Black           5+10          1322   \n",
       "2   True     61           Mate  White           5+10          1496   \n",
       "3   True     61           Mate  White           20+0          1439   \n",
       "4   True     95           Mate  White           30+3          1523   \n",
       "\n",
       "   black_rating  opening_moves    opening_shortname  average_rating  \\\n",
       "0          1191              5         Slav Defense          1345.5   \n",
       "1          1261              4  Nimzowitsch Defense          1291.5   \n",
       "2          1500              3     King's Pawn Game          1498.0   \n",
       "3          1454              3    Queen's Pawn Game          1446.5   \n",
       "4          1469              5     Philidor Defense          1496.0   \n",
       "\n",
       "    skill_level  \n",
       "0  Intermediate  \n",
       "1  Intermediate  \n",
       "2  Intermediate  \n",
       "3  Intermediate  \n",
       "4  Intermediate  "
      ]
     },
     "execution_count": 47,
     "metadata": {},
     "output_type": "execute_result"
    }
   ],
   "source": [
    "df.head()"
   ]
  },
  {
   "cell_type": "markdown",
   "id": "e0b5aa05",
   "metadata": {
    "papermill": {
     "duration": 0.039628,
     "end_time": "2023-07-06T20:18:09.190154",
     "exception": false,
     "start_time": "2023-07-06T20:18:09.150526",
     "status": "completed"
    },
    "tags": []
   },
   "source": [
    "There is no need for the opening_moves feature since this is based off of the opening anyway."
   ]
  },
  {
   "cell_type": "code",
   "execution_count": 48,
   "id": "fea3aef8",
   "metadata": {
    "execution": {
     "iopub.execute_input": "2023-07-06T20:18:09.272728Z",
     "iopub.status.busy": "2023-07-06T20:18:09.272013Z",
     "iopub.status.idle": "2023-07-06T20:18:09.280337Z",
     "shell.execute_reply": "2023-07-06T20:18:09.279469Z"
    },
    "papermill": {
     "duration": 0.052231,
     "end_time": "2023-07-06T20:18:09.282584",
     "exception": false,
     "start_time": "2023-07-06T20:18:09.230353",
     "status": "completed"
    },
    "tags": []
   },
   "outputs": [],
   "source": [
    "df = df.drop('opening_moves', axis = 1)"
   ]
  },
  {
   "cell_type": "code",
   "execution_count": 49,
   "id": "c72014ad",
   "metadata": {
    "execution": {
     "iopub.execute_input": "2023-07-06T20:18:09.365116Z",
     "iopub.status.busy": "2023-07-06T20:18:09.364251Z",
     "iopub.status.idle": "2023-07-06T20:18:09.379899Z",
     "shell.execute_reply": "2023-07-06T20:18:09.379107Z"
    },
    "papermill": {
     "duration": 0.059128,
     "end_time": "2023-07-06T20:18:09.381918",
     "exception": false,
     "start_time": "2023-07-06T20:18:09.322790",
     "status": "completed"
    },
    "tags": []
   },
   "outputs": [
    {
     "data": {
      "text/html": [
       "<div>\n",
       "<style scoped>\n",
       "    .dataframe tbody tr th:only-of-type {\n",
       "        vertical-align: middle;\n",
       "    }\n",
       "\n",
       "    .dataframe tbody tr th {\n",
       "        vertical-align: top;\n",
       "    }\n",
       "\n",
       "    .dataframe thead th {\n",
       "        text-align: right;\n",
       "    }\n",
       "</style>\n",
       "<table border=\"1\" class=\"dataframe\">\n",
       "  <thead>\n",
       "    <tr style=\"text-align: right;\">\n",
       "      <th></th>\n",
       "      <th>rated</th>\n",
       "      <th>turns</th>\n",
       "      <th>victory_status</th>\n",
       "      <th>winner</th>\n",
       "      <th>time_increment</th>\n",
       "      <th>white_rating</th>\n",
       "      <th>black_rating</th>\n",
       "      <th>opening_shortname</th>\n",
       "      <th>average_rating</th>\n",
       "      <th>skill_level</th>\n",
       "    </tr>\n",
       "  </thead>\n",
       "  <tbody>\n",
       "    <tr>\n",
       "      <th>0</th>\n",
       "      <td>False</td>\n",
       "      <td>13</td>\n",
       "      <td>Out of Time</td>\n",
       "      <td>White</td>\n",
       "      <td>15+2</td>\n",
       "      <td>1500</td>\n",
       "      <td>1191</td>\n",
       "      <td>Slav Defense</td>\n",
       "      <td>1345.5</td>\n",
       "      <td>Intermediate</td>\n",
       "    </tr>\n",
       "    <tr>\n",
       "      <th>1</th>\n",
       "      <td>True</td>\n",
       "      <td>16</td>\n",
       "      <td>Resign</td>\n",
       "      <td>Black</td>\n",
       "      <td>5+10</td>\n",
       "      <td>1322</td>\n",
       "      <td>1261</td>\n",
       "      <td>Nimzowitsch Defense</td>\n",
       "      <td>1291.5</td>\n",
       "      <td>Intermediate</td>\n",
       "    </tr>\n",
       "    <tr>\n",
       "      <th>2</th>\n",
       "      <td>True</td>\n",
       "      <td>61</td>\n",
       "      <td>Mate</td>\n",
       "      <td>White</td>\n",
       "      <td>5+10</td>\n",
       "      <td>1496</td>\n",
       "      <td>1500</td>\n",
       "      <td>King's Pawn Game</td>\n",
       "      <td>1498.0</td>\n",
       "      <td>Intermediate</td>\n",
       "    </tr>\n",
       "    <tr>\n",
       "      <th>3</th>\n",
       "      <td>True</td>\n",
       "      <td>61</td>\n",
       "      <td>Mate</td>\n",
       "      <td>White</td>\n",
       "      <td>20+0</td>\n",
       "      <td>1439</td>\n",
       "      <td>1454</td>\n",
       "      <td>Queen's Pawn Game</td>\n",
       "      <td>1446.5</td>\n",
       "      <td>Intermediate</td>\n",
       "    </tr>\n",
       "    <tr>\n",
       "      <th>4</th>\n",
       "      <td>True</td>\n",
       "      <td>95</td>\n",
       "      <td>Mate</td>\n",
       "      <td>White</td>\n",
       "      <td>30+3</td>\n",
       "      <td>1523</td>\n",
       "      <td>1469</td>\n",
       "      <td>Philidor Defense</td>\n",
       "      <td>1496.0</td>\n",
       "      <td>Intermediate</td>\n",
       "    </tr>\n",
       "  </tbody>\n",
       "</table>\n",
       "</div>"
      ],
      "text/plain": [
       "   rated  turns victory_status winner time_increment  white_rating  \\\n",
       "0  False     13    Out of Time  White           15+2          1500   \n",
       "1   True     16         Resign  Black           5+10          1322   \n",
       "2   True     61           Mate  White           5+10          1496   \n",
       "3   True     61           Mate  White           20+0          1439   \n",
       "4   True     95           Mate  White           30+3          1523   \n",
       "\n",
       "   black_rating    opening_shortname  average_rating   skill_level  \n",
       "0          1191         Slav Defense          1345.5  Intermediate  \n",
       "1          1261  Nimzowitsch Defense          1291.5  Intermediate  \n",
       "2          1500     King's Pawn Game          1498.0  Intermediate  \n",
       "3          1454    Queen's Pawn Game          1446.5  Intermediate  \n",
       "4          1469     Philidor Defense          1496.0  Intermediate  "
      ]
     },
     "execution_count": 49,
     "metadata": {},
     "output_type": "execute_result"
    }
   ],
   "source": [
    "df.head()"
   ]
  },
  {
   "cell_type": "markdown",
   "id": "45571a26",
   "metadata": {
    "papermill": {
     "duration": 0.039641,
     "end_time": "2023-07-06T20:18:09.461806",
     "exception": false,
     "start_time": "2023-07-06T20:18:09.422165",
     "status": "completed"
    },
    "tags": []
   },
   "source": [
    "We will also be dropping both average_rating and skill_level as the former was based off of white_rating and black_rating and the latter was based off of the former's value. Basically, both these features can easily be inferred from white_raing and black_rating."
   ]
  },
  {
   "cell_type": "code",
   "execution_count": 50,
   "id": "d4fe38fd",
   "metadata": {
    "execution": {
     "iopub.execute_input": "2023-07-06T20:18:09.542591Z",
     "iopub.status.busy": "2023-07-06T20:18:09.542088Z",
     "iopub.status.idle": "2023-07-06T20:18:09.549232Z",
     "shell.execute_reply": "2023-07-06T20:18:09.548450Z"
    },
    "papermill": {
     "duration": 0.049562,
     "end_time": "2023-07-06T20:18:09.551134",
     "exception": false,
     "start_time": "2023-07-06T20:18:09.501572",
     "status": "completed"
    },
    "tags": []
   },
   "outputs": [],
   "source": [
    "df = df.drop(['average_rating', 'skill_level'], axis = 1)"
   ]
  },
  {
   "cell_type": "code",
   "execution_count": 51,
   "id": "4ba7cf9c",
   "metadata": {
    "execution": {
     "iopub.execute_input": "2023-07-06T20:18:09.632812Z",
     "iopub.status.busy": "2023-07-06T20:18:09.632431Z",
     "iopub.status.idle": "2023-07-06T20:18:09.645676Z",
     "shell.execute_reply": "2023-07-06T20:18:09.644919Z"
    },
    "papermill": {
     "duration": 0.057195,
     "end_time": "2023-07-06T20:18:09.647622",
     "exception": false,
     "start_time": "2023-07-06T20:18:09.590427",
     "status": "completed"
    },
    "tags": []
   },
   "outputs": [
    {
     "data": {
      "text/html": [
       "<div>\n",
       "<style scoped>\n",
       "    .dataframe tbody tr th:only-of-type {\n",
       "        vertical-align: middle;\n",
       "    }\n",
       "\n",
       "    .dataframe tbody tr th {\n",
       "        vertical-align: top;\n",
       "    }\n",
       "\n",
       "    .dataframe thead th {\n",
       "        text-align: right;\n",
       "    }\n",
       "</style>\n",
       "<table border=\"1\" class=\"dataframe\">\n",
       "  <thead>\n",
       "    <tr style=\"text-align: right;\">\n",
       "      <th></th>\n",
       "      <th>rated</th>\n",
       "      <th>turns</th>\n",
       "      <th>victory_status</th>\n",
       "      <th>winner</th>\n",
       "      <th>time_increment</th>\n",
       "      <th>white_rating</th>\n",
       "      <th>black_rating</th>\n",
       "      <th>opening_shortname</th>\n",
       "    </tr>\n",
       "  </thead>\n",
       "  <tbody>\n",
       "    <tr>\n",
       "      <th>0</th>\n",
       "      <td>False</td>\n",
       "      <td>13</td>\n",
       "      <td>Out of Time</td>\n",
       "      <td>White</td>\n",
       "      <td>15+2</td>\n",
       "      <td>1500</td>\n",
       "      <td>1191</td>\n",
       "      <td>Slav Defense</td>\n",
       "    </tr>\n",
       "    <tr>\n",
       "      <th>1</th>\n",
       "      <td>True</td>\n",
       "      <td>16</td>\n",
       "      <td>Resign</td>\n",
       "      <td>Black</td>\n",
       "      <td>5+10</td>\n",
       "      <td>1322</td>\n",
       "      <td>1261</td>\n",
       "      <td>Nimzowitsch Defense</td>\n",
       "    </tr>\n",
       "    <tr>\n",
       "      <th>2</th>\n",
       "      <td>True</td>\n",
       "      <td>61</td>\n",
       "      <td>Mate</td>\n",
       "      <td>White</td>\n",
       "      <td>5+10</td>\n",
       "      <td>1496</td>\n",
       "      <td>1500</td>\n",
       "      <td>King's Pawn Game</td>\n",
       "    </tr>\n",
       "    <tr>\n",
       "      <th>3</th>\n",
       "      <td>True</td>\n",
       "      <td>61</td>\n",
       "      <td>Mate</td>\n",
       "      <td>White</td>\n",
       "      <td>20+0</td>\n",
       "      <td>1439</td>\n",
       "      <td>1454</td>\n",
       "      <td>Queen's Pawn Game</td>\n",
       "    </tr>\n",
       "    <tr>\n",
       "      <th>4</th>\n",
       "      <td>True</td>\n",
       "      <td>95</td>\n",
       "      <td>Mate</td>\n",
       "      <td>White</td>\n",
       "      <td>30+3</td>\n",
       "      <td>1523</td>\n",
       "      <td>1469</td>\n",
       "      <td>Philidor Defense</td>\n",
       "    </tr>\n",
       "  </tbody>\n",
       "</table>\n",
       "</div>"
      ],
      "text/plain": [
       "   rated  turns victory_status winner time_increment  white_rating  \\\n",
       "0  False     13    Out of Time  White           15+2          1500   \n",
       "1   True     16         Resign  Black           5+10          1322   \n",
       "2   True     61           Mate  White           5+10          1496   \n",
       "3   True     61           Mate  White           20+0          1439   \n",
       "4   True     95           Mate  White           30+3          1523   \n",
       "\n",
       "   black_rating    opening_shortname  \n",
       "0          1191         Slav Defense  \n",
       "1          1261  Nimzowitsch Defense  \n",
       "2          1500     King's Pawn Game  \n",
       "3          1454    Queen's Pawn Game  \n",
       "4          1469     Philidor Defense  "
      ]
     },
     "execution_count": 51,
     "metadata": {},
     "output_type": "execute_result"
    }
   ],
   "source": [
    "df.head()"
   ]
  },
  {
   "cell_type": "markdown",
   "id": "7f60f800",
   "metadata": {
    "papermill": {
     "duration": 0.039878,
     "end_time": "2023-07-06T20:18:09.727007",
     "exception": false,
     "start_time": "2023-07-06T20:18:09.687129",
     "status": "completed"
    },
    "tags": []
   },
   "source": [
    "# Categorical Variables"
   ]
  },
  {
   "cell_type": "code",
   "execution_count": 52,
   "id": "34047121",
   "metadata": {
    "execution": {
     "iopub.execute_input": "2023-07-06T20:18:09.806839Z",
     "iopub.status.busy": "2023-07-06T20:18:09.806494Z",
     "iopub.status.idle": "2023-07-06T20:18:09.814115Z",
     "shell.execute_reply": "2023-07-06T20:18:09.813453Z"
    },
    "papermill": {
     "duration": 0.049619,
     "end_time": "2023-07-06T20:18:09.815937",
     "exception": false,
     "start_time": "2023-07-06T20:18:09.766318",
     "status": "completed"
    },
    "tags": []
   },
   "outputs": [
    {
     "data": {
      "text/plain": [
       "Index(['victory_status', 'winner', 'time_increment', 'opening_shortname'], dtype='object')"
      ]
     },
     "execution_count": 52,
     "metadata": {},
     "output_type": "execute_result"
    }
   ],
   "source": [
    "df.select_dtypes(include = 'object').columns"
   ]
  },
  {
   "cell_type": "markdown",
   "id": "ced66228",
   "metadata": {
    "papermill": {
     "duration": 0.040526,
     "end_time": "2023-07-06T20:18:09.895613",
     "exception": false,
     "start_time": "2023-07-06T20:18:09.855087",
     "status": "completed"
    },
    "tags": []
   },
   "source": [
    "I will now create dummy variables for victory_status:"
   ]
  },
  {
   "cell_type": "code",
   "execution_count": 53,
   "id": "5c6cd92a",
   "metadata": {
    "execution": {
     "iopub.execute_input": "2023-07-06T20:18:09.979677Z",
     "iopub.status.busy": "2023-07-06T20:18:09.979030Z",
     "iopub.status.idle": "2023-07-06T20:18:09.987682Z",
     "shell.execute_reply": "2023-07-06T20:18:09.986709Z"
    },
    "papermill": {
     "duration": 0.053165,
     "end_time": "2023-07-06T20:18:09.989784",
     "exception": false,
     "start_time": "2023-07-06T20:18:09.936619",
     "status": "completed"
    },
    "tags": []
   },
   "outputs": [
    {
     "data": {
      "text/plain": [
       "array(['Out of Time', 'Resign', 'Mate', 'Draw'], dtype=object)"
      ]
     },
     "execution_count": 53,
     "metadata": {},
     "output_type": "execute_result"
    }
   ],
   "source": [
    "df['victory_status'].unique()"
   ]
  },
  {
   "cell_type": "code",
   "execution_count": 54,
   "id": "901ee30d",
   "metadata": {
    "execution": {
     "iopub.execute_input": "2023-07-06T20:18:10.074221Z",
     "iopub.status.busy": "2023-07-06T20:18:10.073508Z",
     "iopub.status.idle": "2023-07-06T20:18:10.088322Z",
     "shell.execute_reply": "2023-07-06T20:18:10.087236Z"
    },
    "papermill": {
     "duration": 0.060252,
     "end_time": "2023-07-06T20:18:10.091008",
     "exception": false,
     "start_time": "2023-07-06T20:18:10.030756",
     "status": "completed"
    },
    "tags": []
   },
   "outputs": [],
   "source": [
    "victory_dummy = pd.get_dummies(data = df['victory_status'], \n",
    "                               drop_first = True, \n",
    "                               dtype = float)\n",
    "df = pd.concat([df.drop('victory_status', axis = 1), victory_dummy],\n",
    "               axis = 1)"
   ]
  },
  {
   "cell_type": "code",
   "execution_count": 55,
   "id": "f9306143",
   "metadata": {
    "execution": {
     "iopub.execute_input": "2023-07-06T20:18:10.174120Z",
     "iopub.status.busy": "2023-07-06T20:18:10.173463Z",
     "iopub.status.idle": "2023-07-06T20:18:10.188832Z",
     "shell.execute_reply": "2023-07-06T20:18:10.188064Z"
    },
    "papermill": {
     "duration": 0.058847,
     "end_time": "2023-07-06T20:18:10.191061",
     "exception": false,
     "start_time": "2023-07-06T20:18:10.132214",
     "status": "completed"
    },
    "tags": []
   },
   "outputs": [
    {
     "data": {
      "text/html": [
       "<div>\n",
       "<style scoped>\n",
       "    .dataframe tbody tr th:only-of-type {\n",
       "        vertical-align: middle;\n",
       "    }\n",
       "\n",
       "    .dataframe tbody tr th {\n",
       "        vertical-align: top;\n",
       "    }\n",
       "\n",
       "    .dataframe thead th {\n",
       "        text-align: right;\n",
       "    }\n",
       "</style>\n",
       "<table border=\"1\" class=\"dataframe\">\n",
       "  <thead>\n",
       "    <tr style=\"text-align: right;\">\n",
       "      <th></th>\n",
       "      <th>rated</th>\n",
       "      <th>turns</th>\n",
       "      <th>winner</th>\n",
       "      <th>time_increment</th>\n",
       "      <th>white_rating</th>\n",
       "      <th>black_rating</th>\n",
       "      <th>opening_shortname</th>\n",
       "      <th>Mate</th>\n",
       "      <th>Out of Time</th>\n",
       "      <th>Resign</th>\n",
       "    </tr>\n",
       "  </thead>\n",
       "  <tbody>\n",
       "    <tr>\n",
       "      <th>0</th>\n",
       "      <td>False</td>\n",
       "      <td>13</td>\n",
       "      <td>White</td>\n",
       "      <td>15+2</td>\n",
       "      <td>1500</td>\n",
       "      <td>1191</td>\n",
       "      <td>Slav Defense</td>\n",
       "      <td>0.0</td>\n",
       "      <td>1.0</td>\n",
       "      <td>0.0</td>\n",
       "    </tr>\n",
       "    <tr>\n",
       "      <th>1</th>\n",
       "      <td>True</td>\n",
       "      <td>16</td>\n",
       "      <td>Black</td>\n",
       "      <td>5+10</td>\n",
       "      <td>1322</td>\n",
       "      <td>1261</td>\n",
       "      <td>Nimzowitsch Defense</td>\n",
       "      <td>0.0</td>\n",
       "      <td>0.0</td>\n",
       "      <td>1.0</td>\n",
       "    </tr>\n",
       "    <tr>\n",
       "      <th>2</th>\n",
       "      <td>True</td>\n",
       "      <td>61</td>\n",
       "      <td>White</td>\n",
       "      <td>5+10</td>\n",
       "      <td>1496</td>\n",
       "      <td>1500</td>\n",
       "      <td>King's Pawn Game</td>\n",
       "      <td>1.0</td>\n",
       "      <td>0.0</td>\n",
       "      <td>0.0</td>\n",
       "    </tr>\n",
       "    <tr>\n",
       "      <th>3</th>\n",
       "      <td>True</td>\n",
       "      <td>61</td>\n",
       "      <td>White</td>\n",
       "      <td>20+0</td>\n",
       "      <td>1439</td>\n",
       "      <td>1454</td>\n",
       "      <td>Queen's Pawn Game</td>\n",
       "      <td>1.0</td>\n",
       "      <td>0.0</td>\n",
       "      <td>0.0</td>\n",
       "    </tr>\n",
       "    <tr>\n",
       "      <th>4</th>\n",
       "      <td>True</td>\n",
       "      <td>95</td>\n",
       "      <td>White</td>\n",
       "      <td>30+3</td>\n",
       "      <td>1523</td>\n",
       "      <td>1469</td>\n",
       "      <td>Philidor Defense</td>\n",
       "      <td>1.0</td>\n",
       "      <td>0.0</td>\n",
       "      <td>0.0</td>\n",
       "    </tr>\n",
       "  </tbody>\n",
       "</table>\n",
       "</div>"
      ],
      "text/plain": [
       "   rated  turns winner time_increment  white_rating  black_rating  \\\n",
       "0  False     13  White           15+2          1500          1191   \n",
       "1   True     16  Black           5+10          1322          1261   \n",
       "2   True     61  White           5+10          1496          1500   \n",
       "3   True     61  White           20+0          1439          1454   \n",
       "4   True     95  White           30+3          1523          1469   \n",
       "\n",
       "     opening_shortname  Mate  Out of Time  Resign  \n",
       "0         Slav Defense   0.0          1.0     0.0  \n",
       "1  Nimzowitsch Defense   0.0          0.0     1.0  \n",
       "2     King's Pawn Game   1.0          0.0     0.0  \n",
       "3    Queen's Pawn Game   1.0          0.0     0.0  \n",
       "4     Philidor Defense   1.0          0.0     0.0  "
      ]
     },
     "execution_count": 55,
     "metadata": {},
     "output_type": "execute_result"
    }
   ],
   "source": [
    "df.head()"
   ]
  },
  {
   "cell_type": "markdown",
   "id": "dcf289cc",
   "metadata": {
    "papermill": {
     "duration": 0.040441,
     "end_time": "2023-07-06T20:18:10.272672",
     "exception": false,
     "start_time": "2023-07-06T20:18:10.232231",
     "status": "completed"
    },
    "tags": []
   },
   "source": [
    "Same process of rated and winner:"
   ]
  },
  {
   "cell_type": "code",
   "execution_count": 56,
   "id": "e9fbfbe6",
   "metadata": {
    "execution": {
     "iopub.execute_input": "2023-07-06T20:18:10.355156Z",
     "iopub.status.busy": "2023-07-06T20:18:10.354490Z",
     "iopub.status.idle": "2023-07-06T20:18:10.365916Z",
     "shell.execute_reply": "2023-07-06T20:18:10.365128Z"
    },
    "papermill": {
     "duration": 0.055208,
     "end_time": "2023-07-06T20:18:10.368287",
     "exception": false,
     "start_time": "2023-07-06T20:18:10.313079",
     "status": "completed"
    },
    "tags": []
   },
   "outputs": [],
   "source": [
    "rated_dummy = pd.get_dummies(data = df['rated'], \n",
    "                             drop_first = True,\n",
    "                             dtype = float)\n",
    "df = pd.concat([df.drop('rated', axis = 1), rated_dummy],\n",
    "               axis = 1)"
   ]
  },
  {
   "cell_type": "code",
   "execution_count": 57,
   "id": "28cb1b0e",
   "metadata": {
    "execution": {
     "iopub.execute_input": "2023-07-06T20:18:10.451541Z",
     "iopub.status.busy": "2023-07-06T20:18:10.450800Z",
     "iopub.status.idle": "2023-07-06T20:18:10.466671Z",
     "shell.execute_reply": "2023-07-06T20:18:10.465900Z"
    },
    "papermill": {
     "duration": 0.059756,
     "end_time": "2023-07-06T20:18:10.468742",
     "exception": false,
     "start_time": "2023-07-06T20:18:10.408986",
     "status": "completed"
    },
    "tags": []
   },
   "outputs": [
    {
     "data": {
      "text/html": [
       "<div>\n",
       "<style scoped>\n",
       "    .dataframe tbody tr th:only-of-type {\n",
       "        vertical-align: middle;\n",
       "    }\n",
       "\n",
       "    .dataframe tbody tr th {\n",
       "        vertical-align: top;\n",
       "    }\n",
       "\n",
       "    .dataframe thead th {\n",
       "        text-align: right;\n",
       "    }\n",
       "</style>\n",
       "<table border=\"1\" class=\"dataframe\">\n",
       "  <thead>\n",
       "    <tr style=\"text-align: right;\">\n",
       "      <th></th>\n",
       "      <th>turns</th>\n",
       "      <th>winner</th>\n",
       "      <th>time_increment</th>\n",
       "      <th>white_rating</th>\n",
       "      <th>black_rating</th>\n",
       "      <th>opening_shortname</th>\n",
       "      <th>Mate</th>\n",
       "      <th>Out of Time</th>\n",
       "      <th>Resign</th>\n",
       "      <th>True</th>\n",
       "    </tr>\n",
       "  </thead>\n",
       "  <tbody>\n",
       "    <tr>\n",
       "      <th>0</th>\n",
       "      <td>13</td>\n",
       "      <td>White</td>\n",
       "      <td>15+2</td>\n",
       "      <td>1500</td>\n",
       "      <td>1191</td>\n",
       "      <td>Slav Defense</td>\n",
       "      <td>0.0</td>\n",
       "      <td>1.0</td>\n",
       "      <td>0.0</td>\n",
       "      <td>0.0</td>\n",
       "    </tr>\n",
       "    <tr>\n",
       "      <th>1</th>\n",
       "      <td>16</td>\n",
       "      <td>Black</td>\n",
       "      <td>5+10</td>\n",
       "      <td>1322</td>\n",
       "      <td>1261</td>\n",
       "      <td>Nimzowitsch Defense</td>\n",
       "      <td>0.0</td>\n",
       "      <td>0.0</td>\n",
       "      <td>1.0</td>\n",
       "      <td>1.0</td>\n",
       "    </tr>\n",
       "    <tr>\n",
       "      <th>2</th>\n",
       "      <td>61</td>\n",
       "      <td>White</td>\n",
       "      <td>5+10</td>\n",
       "      <td>1496</td>\n",
       "      <td>1500</td>\n",
       "      <td>King's Pawn Game</td>\n",
       "      <td>1.0</td>\n",
       "      <td>0.0</td>\n",
       "      <td>0.0</td>\n",
       "      <td>1.0</td>\n",
       "    </tr>\n",
       "    <tr>\n",
       "      <th>3</th>\n",
       "      <td>61</td>\n",
       "      <td>White</td>\n",
       "      <td>20+0</td>\n",
       "      <td>1439</td>\n",
       "      <td>1454</td>\n",
       "      <td>Queen's Pawn Game</td>\n",
       "      <td>1.0</td>\n",
       "      <td>0.0</td>\n",
       "      <td>0.0</td>\n",
       "      <td>1.0</td>\n",
       "    </tr>\n",
       "    <tr>\n",
       "      <th>4</th>\n",
       "      <td>95</td>\n",
       "      <td>White</td>\n",
       "      <td>30+3</td>\n",
       "      <td>1523</td>\n",
       "      <td>1469</td>\n",
       "      <td>Philidor Defense</td>\n",
       "      <td>1.0</td>\n",
       "      <td>0.0</td>\n",
       "      <td>0.0</td>\n",
       "      <td>1.0</td>\n",
       "    </tr>\n",
       "  </tbody>\n",
       "</table>\n",
       "</div>"
      ],
      "text/plain": [
       "   turns winner time_increment  white_rating  black_rating  \\\n",
       "0     13  White           15+2          1500          1191   \n",
       "1     16  Black           5+10          1322          1261   \n",
       "2     61  White           5+10          1496          1500   \n",
       "3     61  White           20+0          1439          1454   \n",
       "4     95  White           30+3          1523          1469   \n",
       "\n",
       "     opening_shortname  Mate  Out of Time  Resign  True  \n",
       "0         Slav Defense   0.0          1.0     0.0   0.0  \n",
       "1  Nimzowitsch Defense   0.0          0.0     1.0   1.0  \n",
       "2     King's Pawn Game   1.0          0.0     0.0   1.0  \n",
       "3    Queen's Pawn Game   1.0          0.0     0.0   1.0  \n",
       "4     Philidor Defense   1.0          0.0     0.0   1.0  "
      ]
     },
     "execution_count": 57,
     "metadata": {},
     "output_type": "execute_result"
    }
   ],
   "source": [
    "df.head()"
   ]
  },
  {
   "cell_type": "markdown",
   "id": "28dce4ec",
   "metadata": {
    "papermill": {
     "duration": 0.039608,
     "end_time": "2023-07-06T20:18:10.548833",
     "exception": false,
     "start_time": "2023-07-06T20:18:10.509225",
     "status": "completed"
    },
    "tags": []
   },
   "source": [
    "Now for opening_shortname:"
   ]
  },
  {
   "cell_type": "code",
   "execution_count": 58,
   "id": "a83c55f9",
   "metadata": {
    "execution": {
     "iopub.execute_input": "2023-07-06T20:18:10.632640Z",
     "iopub.status.busy": "2023-07-06T20:18:10.631936Z",
     "iopub.status.idle": "2023-07-06T20:18:10.676586Z",
     "shell.execute_reply": "2023-07-06T20:18:10.675450Z"
    },
    "papermill": {
     "duration": 0.089743,
     "end_time": "2023-07-06T20:18:10.679347",
     "exception": false,
     "start_time": "2023-07-06T20:18:10.589604",
     "status": "completed"
    },
    "tags": []
   },
   "outputs": [],
   "source": [
    "opening_dummy = pd.get_dummies(data = df['opening_shortname'], \n",
    "                               drop_first = True,\n",
    "                               dtype = float)\n",
    "df = pd.concat([df.drop('opening_shortname', axis = 1), opening_dummy],\n",
    "               axis = 1)"
   ]
  },
  {
   "cell_type": "code",
   "execution_count": 59,
   "id": "46a1083e",
   "metadata": {
    "execution": {
     "iopub.execute_input": "2023-07-06T20:18:10.762024Z",
     "iopub.status.busy": "2023-07-06T20:18:10.761316Z",
     "iopub.status.idle": "2023-07-06T20:18:10.790935Z",
     "shell.execute_reply": "2023-07-06T20:18:10.789913Z"
    },
    "papermill": {
     "duration": 0.072755,
     "end_time": "2023-07-06T20:18:10.793065",
     "exception": false,
     "start_time": "2023-07-06T20:18:10.720310",
     "status": "completed"
    },
    "tags": []
   },
   "outputs": [
    {
     "data": {
      "text/html": [
       "<div>\n",
       "<style scoped>\n",
       "    .dataframe tbody tr th:only-of-type {\n",
       "        vertical-align: middle;\n",
       "    }\n",
       "\n",
       "    .dataframe tbody tr th {\n",
       "        vertical-align: top;\n",
       "    }\n",
       "\n",
       "    .dataframe thead th {\n",
       "        text-align: right;\n",
       "    }\n",
       "</style>\n",
       "<table border=\"1\" class=\"dataframe\">\n",
       "  <thead>\n",
       "    <tr style=\"text-align: right;\">\n",
       "      <th></th>\n",
       "      <th>turns</th>\n",
       "      <th>winner</th>\n",
       "      <th>time_increment</th>\n",
       "      <th>white_rating</th>\n",
       "      <th>black_rating</th>\n",
       "      <th>Mate</th>\n",
       "      <th>Out of Time</th>\n",
       "      <th>Resign</th>\n",
       "      <th>True</th>\n",
       "      <th>Amar Opening</th>\n",
       "      <th>...</th>\n",
       "      <th>Trompowsky Attack</th>\n",
       "      <th>Valencia Opening</th>\n",
       "      <th>Van Geet Opening</th>\n",
       "      <th>Van't Kruijs Opening</th>\n",
       "      <th>Vienna Game</th>\n",
       "      <th>Wade Defense</th>\n",
       "      <th>Ware Defense</th>\n",
       "      <th>Ware Opening</th>\n",
       "      <th>Yusupov-Rubinstein System</th>\n",
       "      <th>Zukertort Opening</th>\n",
       "    </tr>\n",
       "  </thead>\n",
       "  <tbody>\n",
       "    <tr>\n",
       "      <th>0</th>\n",
       "      <td>13</td>\n",
       "      <td>White</td>\n",
       "      <td>15+2</td>\n",
       "      <td>1500</td>\n",
       "      <td>1191</td>\n",
       "      <td>0.0</td>\n",
       "      <td>1.0</td>\n",
       "      <td>0.0</td>\n",
       "      <td>0.0</td>\n",
       "      <td>0.0</td>\n",
       "      <td>...</td>\n",
       "      <td>0.0</td>\n",
       "      <td>0.0</td>\n",
       "      <td>0.0</td>\n",
       "      <td>0.0</td>\n",
       "      <td>0.0</td>\n",
       "      <td>0.0</td>\n",
       "      <td>0.0</td>\n",
       "      <td>0.0</td>\n",
       "      <td>0.0</td>\n",
       "      <td>0.0</td>\n",
       "    </tr>\n",
       "    <tr>\n",
       "      <th>1</th>\n",
       "      <td>16</td>\n",
       "      <td>Black</td>\n",
       "      <td>5+10</td>\n",
       "      <td>1322</td>\n",
       "      <td>1261</td>\n",
       "      <td>0.0</td>\n",
       "      <td>0.0</td>\n",
       "      <td>1.0</td>\n",
       "      <td>1.0</td>\n",
       "      <td>0.0</td>\n",
       "      <td>...</td>\n",
       "      <td>0.0</td>\n",
       "      <td>0.0</td>\n",
       "      <td>0.0</td>\n",
       "      <td>0.0</td>\n",
       "      <td>0.0</td>\n",
       "      <td>0.0</td>\n",
       "      <td>0.0</td>\n",
       "      <td>0.0</td>\n",
       "      <td>0.0</td>\n",
       "      <td>0.0</td>\n",
       "    </tr>\n",
       "    <tr>\n",
       "      <th>2</th>\n",
       "      <td>61</td>\n",
       "      <td>White</td>\n",
       "      <td>5+10</td>\n",
       "      <td>1496</td>\n",
       "      <td>1500</td>\n",
       "      <td>1.0</td>\n",
       "      <td>0.0</td>\n",
       "      <td>0.0</td>\n",
       "      <td>1.0</td>\n",
       "      <td>0.0</td>\n",
       "      <td>...</td>\n",
       "      <td>0.0</td>\n",
       "      <td>0.0</td>\n",
       "      <td>0.0</td>\n",
       "      <td>0.0</td>\n",
       "      <td>0.0</td>\n",
       "      <td>0.0</td>\n",
       "      <td>0.0</td>\n",
       "      <td>0.0</td>\n",
       "      <td>0.0</td>\n",
       "      <td>0.0</td>\n",
       "    </tr>\n",
       "    <tr>\n",
       "      <th>3</th>\n",
       "      <td>61</td>\n",
       "      <td>White</td>\n",
       "      <td>20+0</td>\n",
       "      <td>1439</td>\n",
       "      <td>1454</td>\n",
       "      <td>1.0</td>\n",
       "      <td>0.0</td>\n",
       "      <td>0.0</td>\n",
       "      <td>1.0</td>\n",
       "      <td>0.0</td>\n",
       "      <td>...</td>\n",
       "      <td>0.0</td>\n",
       "      <td>0.0</td>\n",
       "      <td>0.0</td>\n",
       "      <td>0.0</td>\n",
       "      <td>0.0</td>\n",
       "      <td>0.0</td>\n",
       "      <td>0.0</td>\n",
       "      <td>0.0</td>\n",
       "      <td>0.0</td>\n",
       "      <td>0.0</td>\n",
       "    </tr>\n",
       "    <tr>\n",
       "      <th>4</th>\n",
       "      <td>95</td>\n",
       "      <td>White</td>\n",
       "      <td>30+3</td>\n",
       "      <td>1523</td>\n",
       "      <td>1469</td>\n",
       "      <td>1.0</td>\n",
       "      <td>0.0</td>\n",
       "      <td>0.0</td>\n",
       "      <td>1.0</td>\n",
       "      <td>0.0</td>\n",
       "      <td>...</td>\n",
       "      <td>0.0</td>\n",
       "      <td>0.0</td>\n",
       "      <td>0.0</td>\n",
       "      <td>0.0</td>\n",
       "      <td>0.0</td>\n",
       "      <td>0.0</td>\n",
       "      <td>0.0</td>\n",
       "      <td>0.0</td>\n",
       "      <td>0.0</td>\n",
       "      <td>0.0</td>\n",
       "    </tr>\n",
       "  </tbody>\n",
       "</table>\n",
       "<p>5 rows × 136 columns</p>\n",
       "</div>"
      ],
      "text/plain": [
       "   turns winner time_increment  white_rating  black_rating  Mate  Out of Time  \\\n",
       "0     13  White           15+2          1500          1191   0.0          1.0   \n",
       "1     16  Black           5+10          1322          1261   0.0          0.0   \n",
       "2     61  White           5+10          1496          1500   1.0          0.0   \n",
       "3     61  White           20+0          1439          1454   1.0          0.0   \n",
       "4     95  White           30+3          1523          1469   1.0          0.0   \n",
       "\n",
       "   Resign  True  Amar Opening  ...  Trompowsky Attack  Valencia Opening  \\\n",
       "0     0.0   0.0           0.0  ...                0.0               0.0   \n",
       "1     1.0   1.0           0.0  ...                0.0               0.0   \n",
       "2     0.0   1.0           0.0  ...                0.0               0.0   \n",
       "3     0.0   1.0           0.0  ...                0.0               0.0   \n",
       "4     0.0   1.0           0.0  ...                0.0               0.0   \n",
       "\n",
       "   Van Geet Opening  Van't Kruijs Opening  Vienna Game  Wade Defense  \\\n",
       "0               0.0                   0.0          0.0           0.0   \n",
       "1               0.0                   0.0          0.0           0.0   \n",
       "2               0.0                   0.0          0.0           0.0   \n",
       "3               0.0                   0.0          0.0           0.0   \n",
       "4               0.0                   0.0          0.0           0.0   \n",
       "\n",
       "   Ware Defense  Ware Opening  Yusupov-Rubinstein System  Zukertort Opening  \n",
       "0           0.0           0.0                        0.0                0.0  \n",
       "1           0.0           0.0                        0.0                0.0  \n",
       "2           0.0           0.0                        0.0                0.0  \n",
       "3           0.0           0.0                        0.0                0.0  \n",
       "4           0.0           0.0                        0.0                0.0  \n",
       "\n",
       "[5 rows x 136 columns]"
      ]
     },
     "execution_count": 59,
     "metadata": {},
     "output_type": "execute_result"
    }
   ],
   "source": [
    "df.head()"
   ]
  },
  {
   "cell_type": "markdown",
   "id": "bba034b9",
   "metadata": {
    "papermill": {
     "duration": 0.041266,
     "end_time": "2023-07-06T20:18:10.875564",
     "exception": false,
     "start_time": "2023-07-06T20:18:10.834298",
     "status": "completed"
    },
    "tags": []
   },
   "source": [
    "Let's check what other categorical features are left:"
   ]
  },
  {
   "cell_type": "code",
   "execution_count": 60,
   "id": "c13384b8",
   "metadata": {
    "execution": {
     "iopub.execute_input": "2023-07-06T20:18:10.962284Z",
     "iopub.status.busy": "2023-07-06T20:18:10.961571Z",
     "iopub.status.idle": "2023-07-06T20:18:10.970490Z",
     "shell.execute_reply": "2023-07-06T20:18:10.969245Z"
    },
    "papermill": {
     "duration": 0.055171,
     "end_time": "2023-07-06T20:18:10.972862",
     "exception": false,
     "start_time": "2023-07-06T20:18:10.917691",
     "status": "completed"
    },
    "tags": []
   },
   "outputs": [
    {
     "data": {
      "text/plain": [
       "Index(['winner', 'time_increment'], dtype='object')"
      ]
     },
     "execution_count": 60,
     "metadata": {},
     "output_type": "execute_result"
    }
   ],
   "source": [
    "df.select_dtypes(include = 'object').columns"
   ]
  },
  {
   "cell_type": "markdown",
   "id": "12ebc1ac",
   "metadata": {
    "papermill": {
     "duration": 0.042275,
     "end_time": "2023-07-06T20:18:11.059483",
     "exception": false,
     "start_time": "2023-07-06T20:18:11.017208",
     "status": "completed"
    },
    "tags": []
   },
   "source": [
    "In chess, there are different types of time intervals that somewhat determine the type of chess that is being played. According to chess.com, here are the time formats:\n",
    "* Bullet: < 1 minute per person\n",
    "* Blitz: < 10 minutes per person\n",
    "* Rapid: < 60 minutes per person\n",
    "* Classical: > 60 minutes per person\n",
    "\n",
    "There are also time increments where the players get an additional x amount of seconds after each move. This can be seen in the dataframe as the number after the \"+\" sign in the time_increment feature. For our purposes, I will be ignoring the time increments as they do not provide that much insight into the game of chess and determining the winner. Instead, I will be categorizing the time format into the 4 categories: Bullet, Blitz, Rapid, and Classical."
   ]
  },
  {
   "cell_type": "code",
   "execution_count": 61,
   "id": "69fce4b9",
   "metadata": {
    "execution": {
     "iopub.execute_input": "2023-07-06T20:18:11.145807Z",
     "iopub.status.busy": "2023-07-06T20:18:11.145107Z",
     "iopub.status.idle": "2023-07-06T20:18:11.161605Z",
     "shell.execute_reply": "2023-07-06T20:18:11.160744Z"
    },
    "papermill": {
     "duration": 0.062058,
     "end_time": "2023-07-06T20:18:11.164196",
     "exception": false,
     "start_time": "2023-07-06T20:18:11.102138",
     "status": "completed"
    },
    "tags": []
   },
   "outputs": [],
   "source": [
    "df['time_increment'] = df['time_increment'].apply(lambda time: time.split('+')[0])"
   ]
  },
  {
   "cell_type": "code",
   "execution_count": 62,
   "id": "9a063c98",
   "metadata": {
    "execution": {
     "iopub.execute_input": "2023-07-06T20:18:11.249897Z",
     "iopub.status.busy": "2023-07-06T20:18:11.249137Z",
     "iopub.status.idle": "2023-07-06T20:18:11.257287Z",
     "shell.execute_reply": "2023-07-06T20:18:11.256541Z"
    },
    "papermill": {
     "duration": 0.053311,
     "end_time": "2023-07-06T20:18:11.259322",
     "exception": false,
     "start_time": "2023-07-06T20:18:11.206011",
     "status": "completed"
    },
    "tags": []
   },
   "outputs": [
    {
     "data": {
      "text/plain": [
       "array(['15', '5', '20', '30', '10', '8', '11', '18', '40', '16', '6', '7',\n",
       "       '45', '25', '12', '2', '9', '180', '17', '3', '60', '90', '14',\n",
       "       '4', '13', '150', '19', '0', '1', '120', '35', '29', '21'],\n",
       "      dtype=object)"
      ]
     },
     "execution_count": 62,
     "metadata": {},
     "output_type": "execute_result"
    }
   ],
   "source": [
    "df['time_increment'].unique()"
   ]
  },
  {
   "cell_type": "code",
   "execution_count": 63,
   "id": "02416cc3",
   "metadata": {
    "execution": {
     "iopub.execute_input": "2023-07-06T20:18:11.344768Z",
     "iopub.status.busy": "2023-07-06T20:18:11.344055Z",
     "iopub.status.idle": "2023-07-06T20:18:11.349688Z",
     "shell.execute_reply": "2023-07-06T20:18:11.348818Z"
    },
    "papermill": {
     "duration": 0.051134,
     "end_time": "2023-07-06T20:18:11.351802",
     "exception": false,
     "start_time": "2023-07-06T20:18:11.300668",
     "status": "completed"
    },
    "tags": []
   },
   "outputs": [],
   "source": [
    "def categorizing_time(time):\n",
    "    \"\"\"This functions takes in time and sorts it into specific time formats as such: 1) Bullet: 0<=time<=1, 2) Blitz: 1<time<10, 3) Rapid: 10<=time<=60, and 4) Classical: time>60. The function will then return theses categories\"\"\"\n",
    "    time = float(time)\n",
    "    if 0 <= time and time <= 1:\n",
    "        return \"Bullet\"\n",
    "    if 1 < time and time < 10:\n",
    "        return \"Blitz\"\n",
    "    if 10 <= time and time <=60:\n",
    "        return 'Rapid'\n",
    "    return 'Classical'"
   ]
  },
  {
   "cell_type": "code",
   "execution_count": 64,
   "id": "39176a61",
   "metadata": {
    "execution": {
     "iopub.execute_input": "2023-07-06T20:18:11.437921Z",
     "iopub.status.busy": "2023-07-06T20:18:11.437211Z",
     "iopub.status.idle": "2023-07-06T20:18:11.462424Z",
     "shell.execute_reply": "2023-07-06T20:18:11.461563Z"
    },
    "papermill": {
     "duration": 0.071007,
     "end_time": "2023-07-06T20:18:11.464908",
     "exception": false,
     "start_time": "2023-07-06T20:18:11.393901",
     "status": "completed"
    },
    "tags": []
   },
   "outputs": [],
   "source": [
    "df['time_increment'] = df['time_increment'].apply(categorizing_time)"
   ]
  },
  {
   "cell_type": "code",
   "execution_count": 65,
   "id": "c1f443e0",
   "metadata": {
    "execution": {
     "iopub.execute_input": "2023-07-06T20:18:11.552269Z",
     "iopub.status.busy": "2023-07-06T20:18:11.551551Z",
     "iopub.status.idle": "2023-07-06T20:18:11.559987Z",
     "shell.execute_reply": "2023-07-06T20:18:11.558907Z"
    },
    "papermill": {
     "duration": 0.055495,
     "end_time": "2023-07-06T20:18:11.562580",
     "exception": false,
     "start_time": "2023-07-06T20:18:11.507085",
     "status": "completed"
    },
    "tags": []
   },
   "outputs": [
    {
     "data": {
      "text/plain": [
       "0        Rapid\n",
       "1        Blitz\n",
       "2        Blitz\n",
       "3        Rapid\n",
       "4        Rapid\n",
       "         ...  \n",
       "20053    Rapid\n",
       "20054    Rapid\n",
       "20055    Rapid\n",
       "20056    Rapid\n",
       "20057    Rapid\n",
       "Name: time_increment, Length: 20058, dtype: object"
      ]
     },
     "execution_count": 65,
     "metadata": {},
     "output_type": "execute_result"
    }
   ],
   "source": [
    "df['time_increment']"
   ]
  },
  {
   "cell_type": "code",
   "execution_count": 66,
   "id": "c2919bc2",
   "metadata": {
    "execution": {
     "iopub.execute_input": "2023-07-06T20:18:11.649225Z",
     "iopub.status.busy": "2023-07-06T20:18:11.648799Z",
     "iopub.status.idle": "2023-07-06T20:18:11.682172Z",
     "shell.execute_reply": "2023-07-06T20:18:11.681021Z"
    },
    "papermill": {
     "duration": 0.079337,
     "end_time": "2023-07-06T20:18:11.684415",
     "exception": false,
     "start_time": "2023-07-06T20:18:11.605078",
     "status": "completed"
    },
    "tags": []
   },
   "outputs": [
    {
     "data": {
      "text/html": [
       "<div>\n",
       "<style scoped>\n",
       "    .dataframe tbody tr th:only-of-type {\n",
       "        vertical-align: middle;\n",
       "    }\n",
       "\n",
       "    .dataframe tbody tr th {\n",
       "        vertical-align: top;\n",
       "    }\n",
       "\n",
       "    .dataframe thead th {\n",
       "        text-align: right;\n",
       "    }\n",
       "</style>\n",
       "<table border=\"1\" class=\"dataframe\">\n",
       "  <thead>\n",
       "    <tr style=\"text-align: right;\">\n",
       "      <th></th>\n",
       "      <th>turns</th>\n",
       "      <th>winner</th>\n",
       "      <th>time_increment</th>\n",
       "      <th>white_rating</th>\n",
       "      <th>black_rating</th>\n",
       "      <th>Mate</th>\n",
       "      <th>Out of Time</th>\n",
       "      <th>Resign</th>\n",
       "      <th>True</th>\n",
       "      <th>Amar Opening</th>\n",
       "      <th>...</th>\n",
       "      <th>Trompowsky Attack</th>\n",
       "      <th>Valencia Opening</th>\n",
       "      <th>Van Geet Opening</th>\n",
       "      <th>Van't Kruijs Opening</th>\n",
       "      <th>Vienna Game</th>\n",
       "      <th>Wade Defense</th>\n",
       "      <th>Ware Defense</th>\n",
       "      <th>Ware Opening</th>\n",
       "      <th>Yusupov-Rubinstein System</th>\n",
       "      <th>Zukertort Opening</th>\n",
       "    </tr>\n",
       "  </thead>\n",
       "  <tbody>\n",
       "    <tr>\n",
       "      <th>0</th>\n",
       "      <td>13</td>\n",
       "      <td>White</td>\n",
       "      <td>Rapid</td>\n",
       "      <td>1500</td>\n",
       "      <td>1191</td>\n",
       "      <td>0.0</td>\n",
       "      <td>1.0</td>\n",
       "      <td>0.0</td>\n",
       "      <td>0.0</td>\n",
       "      <td>0.0</td>\n",
       "      <td>...</td>\n",
       "      <td>0.0</td>\n",
       "      <td>0.0</td>\n",
       "      <td>0.0</td>\n",
       "      <td>0.0</td>\n",
       "      <td>0.0</td>\n",
       "      <td>0.0</td>\n",
       "      <td>0.0</td>\n",
       "      <td>0.0</td>\n",
       "      <td>0.0</td>\n",
       "      <td>0.0</td>\n",
       "    </tr>\n",
       "    <tr>\n",
       "      <th>1</th>\n",
       "      <td>16</td>\n",
       "      <td>Black</td>\n",
       "      <td>Blitz</td>\n",
       "      <td>1322</td>\n",
       "      <td>1261</td>\n",
       "      <td>0.0</td>\n",
       "      <td>0.0</td>\n",
       "      <td>1.0</td>\n",
       "      <td>1.0</td>\n",
       "      <td>0.0</td>\n",
       "      <td>...</td>\n",
       "      <td>0.0</td>\n",
       "      <td>0.0</td>\n",
       "      <td>0.0</td>\n",
       "      <td>0.0</td>\n",
       "      <td>0.0</td>\n",
       "      <td>0.0</td>\n",
       "      <td>0.0</td>\n",
       "      <td>0.0</td>\n",
       "      <td>0.0</td>\n",
       "      <td>0.0</td>\n",
       "    </tr>\n",
       "    <tr>\n",
       "      <th>2</th>\n",
       "      <td>61</td>\n",
       "      <td>White</td>\n",
       "      <td>Blitz</td>\n",
       "      <td>1496</td>\n",
       "      <td>1500</td>\n",
       "      <td>1.0</td>\n",
       "      <td>0.0</td>\n",
       "      <td>0.0</td>\n",
       "      <td>1.0</td>\n",
       "      <td>0.0</td>\n",
       "      <td>...</td>\n",
       "      <td>0.0</td>\n",
       "      <td>0.0</td>\n",
       "      <td>0.0</td>\n",
       "      <td>0.0</td>\n",
       "      <td>0.0</td>\n",
       "      <td>0.0</td>\n",
       "      <td>0.0</td>\n",
       "      <td>0.0</td>\n",
       "      <td>0.0</td>\n",
       "      <td>0.0</td>\n",
       "    </tr>\n",
       "    <tr>\n",
       "      <th>3</th>\n",
       "      <td>61</td>\n",
       "      <td>White</td>\n",
       "      <td>Rapid</td>\n",
       "      <td>1439</td>\n",
       "      <td>1454</td>\n",
       "      <td>1.0</td>\n",
       "      <td>0.0</td>\n",
       "      <td>0.0</td>\n",
       "      <td>1.0</td>\n",
       "      <td>0.0</td>\n",
       "      <td>...</td>\n",
       "      <td>0.0</td>\n",
       "      <td>0.0</td>\n",
       "      <td>0.0</td>\n",
       "      <td>0.0</td>\n",
       "      <td>0.0</td>\n",
       "      <td>0.0</td>\n",
       "      <td>0.0</td>\n",
       "      <td>0.0</td>\n",
       "      <td>0.0</td>\n",
       "      <td>0.0</td>\n",
       "    </tr>\n",
       "    <tr>\n",
       "      <th>4</th>\n",
       "      <td>95</td>\n",
       "      <td>White</td>\n",
       "      <td>Rapid</td>\n",
       "      <td>1523</td>\n",
       "      <td>1469</td>\n",
       "      <td>1.0</td>\n",
       "      <td>0.0</td>\n",
       "      <td>0.0</td>\n",
       "      <td>1.0</td>\n",
       "      <td>0.0</td>\n",
       "      <td>...</td>\n",
       "      <td>0.0</td>\n",
       "      <td>0.0</td>\n",
       "      <td>0.0</td>\n",
       "      <td>0.0</td>\n",
       "      <td>0.0</td>\n",
       "      <td>0.0</td>\n",
       "      <td>0.0</td>\n",
       "      <td>0.0</td>\n",
       "      <td>0.0</td>\n",
       "      <td>0.0</td>\n",
       "    </tr>\n",
       "  </tbody>\n",
       "</table>\n",
       "<p>5 rows × 136 columns</p>\n",
       "</div>"
      ],
      "text/plain": [
       "   turns winner time_increment  white_rating  black_rating  Mate  Out of Time  \\\n",
       "0     13  White          Rapid          1500          1191   0.0          1.0   \n",
       "1     16  Black          Blitz          1322          1261   0.0          0.0   \n",
       "2     61  White          Blitz          1496          1500   1.0          0.0   \n",
       "3     61  White          Rapid          1439          1454   1.0          0.0   \n",
       "4     95  White          Rapid          1523          1469   1.0          0.0   \n",
       "\n",
       "   Resign  True  Amar Opening  ...  Trompowsky Attack  Valencia Opening  \\\n",
       "0     0.0   0.0           0.0  ...                0.0               0.0   \n",
       "1     1.0   1.0           0.0  ...                0.0               0.0   \n",
       "2     0.0   1.0           0.0  ...                0.0               0.0   \n",
       "3     0.0   1.0           0.0  ...                0.0               0.0   \n",
       "4     0.0   1.0           0.0  ...                0.0               0.0   \n",
       "\n",
       "   Van Geet Opening  Van't Kruijs Opening  Vienna Game  Wade Defense  \\\n",
       "0               0.0                   0.0          0.0           0.0   \n",
       "1               0.0                   0.0          0.0           0.0   \n",
       "2               0.0                   0.0          0.0           0.0   \n",
       "3               0.0                   0.0          0.0           0.0   \n",
       "4               0.0                   0.0          0.0           0.0   \n",
       "\n",
       "   Ware Defense  Ware Opening  Yusupov-Rubinstein System  Zukertort Opening  \n",
       "0           0.0           0.0                        0.0                0.0  \n",
       "1           0.0           0.0                        0.0                0.0  \n",
       "2           0.0           0.0                        0.0                0.0  \n",
       "3           0.0           0.0                        0.0                0.0  \n",
       "4           0.0           0.0                        0.0                0.0  \n",
       "\n",
       "[5 rows x 136 columns]"
      ]
     },
     "execution_count": 66,
     "metadata": {},
     "output_type": "execute_result"
    }
   ],
   "source": [
    "df.head()"
   ]
  },
  {
   "cell_type": "markdown",
   "id": "8c95b34c",
   "metadata": {
    "papermill": {
     "duration": 0.04203,
     "end_time": "2023-07-06T20:18:11.769332",
     "exception": false,
     "start_time": "2023-07-06T20:18:11.727302",
     "status": "completed"
    },
    "tags": []
   },
   "source": [
    "Perfect! Now we have converted the time_increment into something more managable."
   ]
  },
  {
   "cell_type": "code",
   "execution_count": 67,
   "id": "403c4ec9",
   "metadata": {
    "execution": {
     "iopub.execute_input": "2023-07-06T20:18:11.857507Z",
     "iopub.status.busy": "2023-07-06T20:18:11.856829Z",
     "iopub.status.idle": "2023-07-06T20:18:11.890495Z",
     "shell.execute_reply": "2023-07-06T20:18:11.889358Z"
    },
    "papermill": {
     "duration": 0.080166,
     "end_time": "2023-07-06T20:18:11.893110",
     "exception": false,
     "start_time": "2023-07-06T20:18:11.812944",
     "status": "completed"
    },
    "tags": []
   },
   "outputs": [],
   "source": [
    "time_dummy = pd.get_dummies(data = df['time_increment'],\n",
    "                            drop_first = True,\n",
    "                            dtype = float)\n",
    "df = pd.concat([df.drop('time_increment', axis = 1), time_dummy],\n",
    "               axis = 1)"
   ]
  },
  {
   "cell_type": "code",
   "execution_count": 68,
   "id": "3195bde9",
   "metadata": {
    "execution": {
     "iopub.execute_input": "2023-07-06T20:18:11.980986Z",
     "iopub.status.busy": "2023-07-06T20:18:11.980583Z",
     "iopub.status.idle": "2023-07-06T20:18:12.016743Z",
     "shell.execute_reply": "2023-07-06T20:18:12.015625Z"
    },
    "papermill": {
     "duration": 0.082902,
     "end_time": "2023-07-06T20:18:12.019100",
     "exception": false,
     "start_time": "2023-07-06T20:18:11.936198",
     "status": "completed"
    },
    "tags": []
   },
   "outputs": [
    {
     "data": {
      "text/html": [
       "<div>\n",
       "<style scoped>\n",
       "    .dataframe tbody tr th:only-of-type {\n",
       "        vertical-align: middle;\n",
       "    }\n",
       "\n",
       "    .dataframe tbody tr th {\n",
       "        vertical-align: top;\n",
       "    }\n",
       "\n",
       "    .dataframe thead th {\n",
       "        text-align: right;\n",
       "    }\n",
       "</style>\n",
       "<table border=\"1\" class=\"dataframe\">\n",
       "  <thead>\n",
       "    <tr style=\"text-align: right;\">\n",
       "      <th></th>\n",
       "      <th>turns</th>\n",
       "      <th>winner</th>\n",
       "      <th>white_rating</th>\n",
       "      <th>black_rating</th>\n",
       "      <th>Mate</th>\n",
       "      <th>Out of Time</th>\n",
       "      <th>Resign</th>\n",
       "      <th>True</th>\n",
       "      <th>Amar Opening</th>\n",
       "      <th>Amazon Attack</th>\n",
       "      <th>...</th>\n",
       "      <th>Van't Kruijs Opening</th>\n",
       "      <th>Vienna Game</th>\n",
       "      <th>Wade Defense</th>\n",
       "      <th>Ware Defense</th>\n",
       "      <th>Ware Opening</th>\n",
       "      <th>Yusupov-Rubinstein System</th>\n",
       "      <th>Zukertort Opening</th>\n",
       "      <th>Bullet</th>\n",
       "      <th>Classical</th>\n",
       "      <th>Rapid</th>\n",
       "    </tr>\n",
       "  </thead>\n",
       "  <tbody>\n",
       "    <tr>\n",
       "      <th>0</th>\n",
       "      <td>13</td>\n",
       "      <td>White</td>\n",
       "      <td>1500</td>\n",
       "      <td>1191</td>\n",
       "      <td>0.0</td>\n",
       "      <td>1.0</td>\n",
       "      <td>0.0</td>\n",
       "      <td>0.0</td>\n",
       "      <td>0.0</td>\n",
       "      <td>0.0</td>\n",
       "      <td>...</td>\n",
       "      <td>0.0</td>\n",
       "      <td>0.0</td>\n",
       "      <td>0.0</td>\n",
       "      <td>0.0</td>\n",
       "      <td>0.0</td>\n",
       "      <td>0.0</td>\n",
       "      <td>0.0</td>\n",
       "      <td>0.0</td>\n",
       "      <td>0.0</td>\n",
       "      <td>1.0</td>\n",
       "    </tr>\n",
       "    <tr>\n",
       "      <th>1</th>\n",
       "      <td>16</td>\n",
       "      <td>Black</td>\n",
       "      <td>1322</td>\n",
       "      <td>1261</td>\n",
       "      <td>0.0</td>\n",
       "      <td>0.0</td>\n",
       "      <td>1.0</td>\n",
       "      <td>1.0</td>\n",
       "      <td>0.0</td>\n",
       "      <td>0.0</td>\n",
       "      <td>...</td>\n",
       "      <td>0.0</td>\n",
       "      <td>0.0</td>\n",
       "      <td>0.0</td>\n",
       "      <td>0.0</td>\n",
       "      <td>0.0</td>\n",
       "      <td>0.0</td>\n",
       "      <td>0.0</td>\n",
       "      <td>0.0</td>\n",
       "      <td>0.0</td>\n",
       "      <td>0.0</td>\n",
       "    </tr>\n",
       "    <tr>\n",
       "      <th>2</th>\n",
       "      <td>61</td>\n",
       "      <td>White</td>\n",
       "      <td>1496</td>\n",
       "      <td>1500</td>\n",
       "      <td>1.0</td>\n",
       "      <td>0.0</td>\n",
       "      <td>0.0</td>\n",
       "      <td>1.0</td>\n",
       "      <td>0.0</td>\n",
       "      <td>0.0</td>\n",
       "      <td>...</td>\n",
       "      <td>0.0</td>\n",
       "      <td>0.0</td>\n",
       "      <td>0.0</td>\n",
       "      <td>0.0</td>\n",
       "      <td>0.0</td>\n",
       "      <td>0.0</td>\n",
       "      <td>0.0</td>\n",
       "      <td>0.0</td>\n",
       "      <td>0.0</td>\n",
       "      <td>0.0</td>\n",
       "    </tr>\n",
       "    <tr>\n",
       "      <th>3</th>\n",
       "      <td>61</td>\n",
       "      <td>White</td>\n",
       "      <td>1439</td>\n",
       "      <td>1454</td>\n",
       "      <td>1.0</td>\n",
       "      <td>0.0</td>\n",
       "      <td>0.0</td>\n",
       "      <td>1.0</td>\n",
       "      <td>0.0</td>\n",
       "      <td>0.0</td>\n",
       "      <td>...</td>\n",
       "      <td>0.0</td>\n",
       "      <td>0.0</td>\n",
       "      <td>0.0</td>\n",
       "      <td>0.0</td>\n",
       "      <td>0.0</td>\n",
       "      <td>0.0</td>\n",
       "      <td>0.0</td>\n",
       "      <td>0.0</td>\n",
       "      <td>0.0</td>\n",
       "      <td>1.0</td>\n",
       "    </tr>\n",
       "    <tr>\n",
       "      <th>4</th>\n",
       "      <td>95</td>\n",
       "      <td>White</td>\n",
       "      <td>1523</td>\n",
       "      <td>1469</td>\n",
       "      <td>1.0</td>\n",
       "      <td>0.0</td>\n",
       "      <td>0.0</td>\n",
       "      <td>1.0</td>\n",
       "      <td>0.0</td>\n",
       "      <td>0.0</td>\n",
       "      <td>...</td>\n",
       "      <td>0.0</td>\n",
       "      <td>0.0</td>\n",
       "      <td>0.0</td>\n",
       "      <td>0.0</td>\n",
       "      <td>0.0</td>\n",
       "      <td>0.0</td>\n",
       "      <td>0.0</td>\n",
       "      <td>0.0</td>\n",
       "      <td>0.0</td>\n",
       "      <td>1.0</td>\n",
       "    </tr>\n",
       "  </tbody>\n",
       "</table>\n",
       "<p>5 rows × 138 columns</p>\n",
       "</div>"
      ],
      "text/plain": [
       "   turns winner  white_rating  black_rating  Mate  Out of Time  Resign  True  \\\n",
       "0     13  White          1500          1191   0.0          1.0     0.0   0.0   \n",
       "1     16  Black          1322          1261   0.0          0.0     1.0   1.0   \n",
       "2     61  White          1496          1500   1.0          0.0     0.0   1.0   \n",
       "3     61  White          1439          1454   1.0          0.0     0.0   1.0   \n",
       "4     95  White          1523          1469   1.0          0.0     0.0   1.0   \n",
       "\n",
       "   Amar Opening  Amazon Attack  ...  Van't Kruijs Opening  Vienna Game  \\\n",
       "0           0.0            0.0  ...                   0.0          0.0   \n",
       "1           0.0            0.0  ...                   0.0          0.0   \n",
       "2           0.0            0.0  ...                   0.0          0.0   \n",
       "3           0.0            0.0  ...                   0.0          0.0   \n",
       "4           0.0            0.0  ...                   0.0          0.0   \n",
       "\n",
       "   Wade Defense  Ware Defense  Ware Opening  Yusupov-Rubinstein System  \\\n",
       "0           0.0           0.0           0.0                        0.0   \n",
       "1           0.0           0.0           0.0                        0.0   \n",
       "2           0.0           0.0           0.0                        0.0   \n",
       "3           0.0           0.0           0.0                        0.0   \n",
       "4           0.0           0.0           0.0                        0.0   \n",
       "\n",
       "   Zukertort Opening  Bullet  Classical  Rapid  \n",
       "0                0.0     0.0        0.0    1.0  \n",
       "1                0.0     0.0        0.0    0.0  \n",
       "2                0.0     0.0        0.0    0.0  \n",
       "3                0.0     0.0        0.0    1.0  \n",
       "4                0.0     0.0        0.0    1.0  \n",
       "\n",
       "[5 rows x 138 columns]"
      ]
     },
     "execution_count": 68,
     "metadata": {},
     "output_type": "execute_result"
    }
   ],
   "source": [
    "df.head()"
   ]
  },
  {
   "cell_type": "code",
   "execution_count": 69,
   "id": "a6192e3a",
   "metadata": {
    "execution": {
     "iopub.execute_input": "2023-07-06T20:18:12.107300Z",
     "iopub.status.busy": "2023-07-06T20:18:12.106589Z",
     "iopub.status.idle": "2023-07-06T20:18:12.115203Z",
     "shell.execute_reply": "2023-07-06T20:18:12.113931Z"
    },
    "papermill": {
     "duration": 0.0556,
     "end_time": "2023-07-06T20:18:12.117650",
     "exception": false,
     "start_time": "2023-07-06T20:18:12.062050",
     "status": "completed"
    },
    "tags": []
   },
   "outputs": [
    {
     "data": {
      "text/plain": [
       "Index(['winner'], dtype='object')"
      ]
     },
     "execution_count": 69,
     "metadata": {},
     "output_type": "execute_result"
    }
   ],
   "source": [
    "df.select_dtypes(include = 'object').columns"
   ]
  },
  {
   "cell_type": "code",
   "execution_count": 70,
   "id": "f322be37",
   "metadata": {
    "execution": {
     "iopub.execute_input": "2023-07-06T20:18:12.206454Z",
     "iopub.status.busy": "2023-07-06T20:18:12.205813Z",
     "iopub.status.idle": "2023-07-06T20:18:12.212262Z",
     "shell.execute_reply": "2023-07-06T20:18:12.211379Z"
    },
    "papermill": {
     "duration": 0.053697,
     "end_time": "2023-07-06T20:18:12.214331",
     "exception": false,
     "start_time": "2023-07-06T20:18:12.160634",
     "status": "completed"
    },
    "tags": []
   },
   "outputs": [
    {
     "data": {
      "text/plain": [
       "138"
      ]
     },
     "execution_count": 70,
     "metadata": {},
     "output_type": "execute_result"
    }
   ],
   "source": [
    "len(df.columns)"
   ]
  },
  {
   "cell_type": "markdown",
   "id": "637a412c",
   "metadata": {
    "papermill": {
     "duration": 0.042748,
     "end_time": "2023-07-06T20:18:12.300498",
     "exception": false,
     "start_time": "2023-07-06T20:18:12.257750",
     "status": "completed"
    },
    "tags": []
   },
   "source": [
    "# Creating a Classification Model"
   ]
  },
  {
   "cell_type": "markdown",
   "id": "4abcd1da",
   "metadata": {
    "papermill": {
     "duration": 0.04222,
     "end_time": "2023-07-06T20:18:12.385831",
     "exception": false,
     "start_time": "2023-07-06T20:18:12.343611",
     "status": "completed"
    },
    "tags": []
   },
   "source": [
    "Now that we have cleaned our data, it's time to create a model to predict the winner of a given game. There are multiple ways to do this classification, but for today, we will be using a Decision Tree Classifier to sort this out. "
   ]
  },
  {
   "cell_type": "markdown",
   "id": "2cf29d3e",
   "metadata": {
    "papermill": {
     "duration": 0.040671,
     "end_time": "2023-07-06T20:18:12.468285",
     "exception": false,
     "start_time": "2023-07-06T20:18:12.427614",
     "status": "completed"
    },
    "tags": []
   },
   "source": [
    "## Train Test Split"
   ]
  },
  {
   "cell_type": "code",
   "execution_count": 71,
   "id": "eb5b55fe",
   "metadata": {
    "execution": {
     "iopub.execute_input": "2023-07-06T20:18:12.555252Z",
     "iopub.status.busy": "2023-07-06T20:18:12.554428Z",
     "iopub.status.idle": "2023-07-06T20:18:12.964049Z",
     "shell.execute_reply": "2023-07-06T20:18:12.963120Z"
    },
    "papermill": {
     "duration": 0.455386,
     "end_time": "2023-07-06T20:18:12.966603",
     "exception": false,
     "start_time": "2023-07-06T20:18:12.511217",
     "status": "completed"
    },
    "tags": []
   },
   "outputs": [],
   "source": [
    "from sklearn.model_selection import train_test_split"
   ]
  },
  {
   "cell_type": "code",
   "execution_count": 72,
   "id": "185f5395",
   "metadata": {
    "execution": {
     "iopub.execute_input": "2023-07-06T20:18:13.062654Z",
     "iopub.status.busy": "2023-07-06T20:18:13.061960Z",
     "iopub.status.idle": "2023-07-06T20:18:13.141685Z",
     "shell.execute_reply": "2023-07-06T20:18:13.140722Z"
    },
    "papermill": {
     "duration": 0.133357,
     "end_time": "2023-07-06T20:18:13.144231",
     "exception": false,
     "start_time": "2023-07-06T20:18:13.010874",
     "status": "completed"
    },
    "tags": []
   },
   "outputs": [],
   "source": [
    "X = df.drop('winner', axis=1).values\n",
    "y = df['winner'].values\n",
    "X_train, X_test, y_train, y_test = train_test_split(X,\n",
    "                                                    y, \n",
    "                                                    test_size=0.30, \n",
    "                                                    random_state=101)"
   ]
  },
  {
   "cell_type": "markdown",
   "id": "e1ba8493",
   "metadata": {
    "papermill": {
     "duration": 0.042842,
     "end_time": "2023-07-06T20:18:13.231564",
     "exception": false,
     "start_time": "2023-07-06T20:18:13.188722",
     "status": "completed"
    },
    "tags": []
   },
   "source": [
    "## Decision Tree"
   ]
  },
  {
   "cell_type": "code",
   "execution_count": 73,
   "id": "414c0f80",
   "metadata": {
    "execution": {
     "iopub.execute_input": "2023-07-06T20:18:13.321021Z",
     "iopub.status.busy": "2023-07-06T20:18:13.319935Z",
     "iopub.status.idle": "2023-07-06T20:18:13.568287Z",
     "shell.execute_reply": "2023-07-06T20:18:13.567163Z"
    },
    "papermill": {
     "duration": 0.295845,
     "end_time": "2023-07-06T20:18:13.570916",
     "exception": false,
     "start_time": "2023-07-06T20:18:13.275071",
     "status": "completed"
    },
    "tags": []
   },
   "outputs": [],
   "source": [
    "from sklearn.tree import DecisionTreeClassifier"
   ]
  },
  {
   "cell_type": "code",
   "execution_count": 74,
   "id": "4225e845",
   "metadata": {
    "execution": {
     "iopub.execute_input": "2023-07-06T20:18:13.659748Z",
     "iopub.status.busy": "2023-07-06T20:18:13.659320Z",
     "iopub.status.idle": "2023-07-06T20:18:13.664208Z",
     "shell.execute_reply": "2023-07-06T20:18:13.663163Z"
    },
    "papermill": {
     "duration": 0.052199,
     "end_time": "2023-07-06T20:18:13.666320",
     "exception": false,
     "start_time": "2023-07-06T20:18:13.614121",
     "status": "completed"
    },
    "tags": []
   },
   "outputs": [],
   "source": [
    "dtree = DecisionTreeClassifier()"
   ]
  },
  {
   "cell_type": "code",
   "execution_count": 75,
   "id": "8c9e85f1",
   "metadata": {
    "execution": {
     "iopub.execute_input": "2023-07-06T20:18:13.768960Z",
     "iopub.status.busy": "2023-07-06T20:18:13.768561Z",
     "iopub.status.idle": "2023-07-06T20:18:13.990729Z",
     "shell.execute_reply": "2023-07-06T20:18:13.989610Z"
    },
    "papermill": {
     "duration": 0.2834,
     "end_time": "2023-07-06T20:18:13.993415",
     "exception": false,
     "start_time": "2023-07-06T20:18:13.710015",
     "status": "completed"
    },
    "tags": []
   },
   "outputs": [
    {
     "data": {
      "text/html": [
       "<style>#sk-container-id-1 {color: black;background-color: white;}#sk-container-id-1 pre{padding: 0;}#sk-container-id-1 div.sk-toggleable {background-color: white;}#sk-container-id-1 label.sk-toggleable__label {cursor: pointer;display: block;width: 100%;margin-bottom: 0;padding: 0.3em;box-sizing: border-box;text-align: center;}#sk-container-id-1 label.sk-toggleable__label-arrow:before {content: \"▸\";float: left;margin-right: 0.25em;color: #696969;}#sk-container-id-1 label.sk-toggleable__label-arrow:hover:before {color: black;}#sk-container-id-1 div.sk-estimator:hover label.sk-toggleable__label-arrow:before {color: black;}#sk-container-id-1 div.sk-toggleable__content {max-height: 0;max-width: 0;overflow: hidden;text-align: left;background-color: #f0f8ff;}#sk-container-id-1 div.sk-toggleable__content pre {margin: 0.2em;color: black;border-radius: 0.25em;background-color: #f0f8ff;}#sk-container-id-1 input.sk-toggleable__control:checked~div.sk-toggleable__content {max-height: 200px;max-width: 100%;overflow: auto;}#sk-container-id-1 input.sk-toggleable__control:checked~label.sk-toggleable__label-arrow:before {content: \"▾\";}#sk-container-id-1 div.sk-estimator input.sk-toggleable__control:checked~label.sk-toggleable__label {background-color: #d4ebff;}#sk-container-id-1 div.sk-label input.sk-toggleable__control:checked~label.sk-toggleable__label {background-color: #d4ebff;}#sk-container-id-1 input.sk-hidden--visually {border: 0;clip: rect(1px 1px 1px 1px);clip: rect(1px, 1px, 1px, 1px);height: 1px;margin: -1px;overflow: hidden;padding: 0;position: absolute;width: 1px;}#sk-container-id-1 div.sk-estimator {font-family: monospace;background-color: #f0f8ff;border: 1px dotted black;border-radius: 0.25em;box-sizing: border-box;margin-bottom: 0.5em;}#sk-container-id-1 div.sk-estimator:hover {background-color: #d4ebff;}#sk-container-id-1 div.sk-parallel-item::after {content: \"\";width: 100%;border-bottom: 1px solid gray;flex-grow: 1;}#sk-container-id-1 div.sk-label:hover label.sk-toggleable__label {background-color: #d4ebff;}#sk-container-id-1 div.sk-serial::before {content: \"\";position: absolute;border-left: 1px solid gray;box-sizing: border-box;top: 0;bottom: 0;left: 50%;z-index: 0;}#sk-container-id-1 div.sk-serial {display: flex;flex-direction: column;align-items: center;background-color: white;padding-right: 0.2em;padding-left: 0.2em;position: relative;}#sk-container-id-1 div.sk-item {position: relative;z-index: 1;}#sk-container-id-1 div.sk-parallel {display: flex;align-items: stretch;justify-content: center;background-color: white;position: relative;}#sk-container-id-1 div.sk-item::before, #sk-container-id-1 div.sk-parallel-item::before {content: \"\";position: absolute;border-left: 1px solid gray;box-sizing: border-box;top: 0;bottom: 0;left: 50%;z-index: -1;}#sk-container-id-1 div.sk-parallel-item {display: flex;flex-direction: column;z-index: 1;position: relative;background-color: white;}#sk-container-id-1 div.sk-parallel-item:first-child::after {align-self: flex-end;width: 50%;}#sk-container-id-1 div.sk-parallel-item:last-child::after {align-self: flex-start;width: 50%;}#sk-container-id-1 div.sk-parallel-item:only-child::after {width: 0;}#sk-container-id-1 div.sk-dashed-wrapped {border: 1px dashed gray;margin: 0 0.4em 0.5em 0.4em;box-sizing: border-box;padding-bottom: 0.4em;background-color: white;}#sk-container-id-1 div.sk-label label {font-family: monospace;font-weight: bold;display: inline-block;line-height: 1.2em;}#sk-container-id-1 div.sk-label-container {text-align: center;}#sk-container-id-1 div.sk-container {/* jupyter's `normalize.less` sets `[hidden] { display: none; }` but bootstrap.min.css set `[hidden] { display: none !important; }` so we also need the `!important` here to be able to override the default hidden behavior on the sphinx rendered scikit-learn.org. See: https://github.com/scikit-learn/scikit-learn/issues/21755 */display: inline-block !important;position: relative;}#sk-container-id-1 div.sk-text-repr-fallback {display: none;}</style><div id=\"sk-container-id-1\" class=\"sk-top-container\"><div class=\"sk-text-repr-fallback\"><pre>DecisionTreeClassifier()</pre><b>In a Jupyter environment, please rerun this cell to show the HTML representation or trust the notebook. <br />On GitHub, the HTML representation is unable to render, please try loading this page with nbviewer.org.</b></div><div class=\"sk-container\" hidden><div class=\"sk-item\"><div class=\"sk-estimator sk-toggleable\"><input class=\"sk-toggleable__control sk-hidden--visually\" id=\"sk-estimator-id-1\" type=\"checkbox\" checked><label for=\"sk-estimator-id-1\" class=\"sk-toggleable__label sk-toggleable__label-arrow\">DecisionTreeClassifier</label><div class=\"sk-toggleable__content\"><pre>DecisionTreeClassifier()</pre></div></div></div></div></div>"
      ],
      "text/plain": [
       "DecisionTreeClassifier()"
      ]
     },
     "execution_count": 75,
     "metadata": {},
     "output_type": "execute_result"
    }
   ],
   "source": [
    "dtree.fit(X_train, y_train)"
   ]
  },
  {
   "cell_type": "code",
   "execution_count": 76,
   "id": "7133215f",
   "metadata": {
    "execution": {
     "iopub.execute_input": "2023-07-06T20:18:14.083425Z",
     "iopub.status.busy": "2023-07-06T20:18:14.082622Z",
     "iopub.status.idle": "2023-07-06T20:18:14.090403Z",
     "shell.execute_reply": "2023-07-06T20:18:14.089646Z"
    },
    "papermill": {
     "duration": 0.05586,
     "end_time": "2023-07-06T20:18:14.092738",
     "exception": false,
     "start_time": "2023-07-06T20:18:14.036878",
     "status": "completed"
    },
    "tags": []
   },
   "outputs": [],
   "source": [
    "predictions = dtree.predict(X_test)"
   ]
  },
  {
   "cell_type": "markdown",
   "id": "6ec64113",
   "metadata": {
    "papermill": {
     "duration": 0.043502,
     "end_time": "2023-07-06T20:18:14.179877",
     "exception": false,
     "start_time": "2023-07-06T20:18:14.136375",
     "status": "completed"
    },
    "tags": []
   },
   "source": [
    "## Evaluation"
   ]
  },
  {
   "cell_type": "code",
   "execution_count": 77,
   "id": "8d73ef24",
   "metadata": {
    "execution": {
     "iopub.execute_input": "2023-07-06T20:18:14.331042Z",
     "iopub.status.busy": "2023-07-06T20:18:14.330273Z",
     "iopub.status.idle": "2023-07-06T20:18:14.335186Z",
     "shell.execute_reply": "2023-07-06T20:18:14.334453Z"
    },
    "papermill": {
     "duration": 0.113121,
     "end_time": "2023-07-06T20:18:14.337314",
     "exception": false,
     "start_time": "2023-07-06T20:18:14.224193",
     "status": "completed"
    },
    "tags": []
   },
   "outputs": [],
   "source": [
    "from sklearn.metrics import classification_report, confusion_matrix"
   ]
  },
  {
   "cell_type": "code",
   "execution_count": 78,
   "id": "97b85197",
   "metadata": {
    "execution": {
     "iopub.execute_input": "2023-07-06T20:18:14.427767Z",
     "iopub.status.busy": "2023-07-06T20:18:14.427142Z",
     "iopub.status.idle": "2023-07-06T20:18:14.735507Z",
     "shell.execute_reply": "2023-07-06T20:18:14.734330Z"
    },
    "papermill": {
     "duration": 0.356734,
     "end_time": "2023-07-06T20:18:14.738075",
     "exception": false,
     "start_time": "2023-07-06T20:18:14.381341",
     "status": "completed"
    },
    "tags": []
   },
   "outputs": [
    {
     "name": "stdout",
     "output_type": "stream",
     "text": [
      "              precision    recall  f1-score   support\n",
      "\n",
      "       Black       0.60      0.60      0.60      2773\n",
      "        Draw       0.74      0.69      0.71       287\n",
      "       White       0.63      0.63      0.63      2958\n",
      "\n",
      "    accuracy                           0.62      6018\n",
      "   macro avg       0.66      0.64      0.65      6018\n",
      "weighted avg       0.62      0.62      0.62      6018\n",
      "\n"
     ]
    }
   ],
   "source": [
    "print(classification_report(y_test, predictions))"
   ]
  },
  {
   "cell_type": "code",
   "execution_count": 79,
   "id": "7b45ffe1",
   "metadata": {
    "execution": {
     "iopub.execute_input": "2023-07-06T20:18:14.830095Z",
     "iopub.status.busy": "2023-07-06T20:18:14.829421Z",
     "iopub.status.idle": "2023-07-06T20:18:14.869642Z",
     "shell.execute_reply": "2023-07-06T20:18:14.868258Z"
    },
    "papermill": {
     "duration": 0.090273,
     "end_time": "2023-07-06T20:18:14.872738",
     "exception": false,
     "start_time": "2023-07-06T20:18:14.782465",
     "status": "completed"
    },
    "tags": []
   },
   "outputs": [
    {
     "name": "stdout",
     "output_type": "stream",
     "text": [
      "[[1675   41 1057]\n",
      " [  42  198   47]\n",
      " [1052   29 1877]]\n"
     ]
    }
   ],
   "source": [
    "print(confusion_matrix(y_test, predictions))"
   ]
  },
  {
   "cell_type": "markdown",
   "id": "c70c73e6",
   "metadata": {
    "papermill": {
     "duration": 0.04435,
     "end_time": "2023-07-06T20:18:14.963018",
     "exception": false,
     "start_time": "2023-07-06T20:18:14.918668",
     "status": "completed"
    },
    "tags": []
   },
   "source": [
    "As we can see, unfortunately, the model can only predict the result of the games at a 63% accuracy overall. This is not the best accuracy rate that data scientists typically look for but in terms of the game of chess, I would consider it to be not too bad. This is mainly because in the game of chess, there is still a lot of variables and luck at play depending on the players performance from game to game. This holds truer for games in which the two players are at a similar skill level as the game could go either way or maybe even a draw. So, a 63% accurate model is not too bad for a chess game prediction model."
   ]
  },
  {
   "cell_type": "markdown",
   "id": "a18ab23a",
   "metadata": {
    "papermill": {
     "duration": 0.043343,
     "end_time": "2023-07-06T20:18:15.050768",
     "exception": false,
     "start_time": "2023-07-06T20:18:15.007425",
     "status": "completed"
    },
    "tags": []
   },
   "source": [
    "# Conclusion\n",
    "\n",
    "Here are some of the results that we've discovered in the EDA:\n",
    "* Most games are rated \n",
    "* Average white rating: 1597\n",
    "* Average black rating: 1589\n",
    "* The top 3 openings (all with 1000+ occurences unlike the rest of the openings) are:\n",
    "    * Sicilian Defense: 2632\n",
    "    * French Defense: 1412\n",
    "    * Queen's Pawn Opening: 1233\n",
    "* result_by_opening:"
   ]
  },
  {
   "cell_type": "code",
   "execution_count": 80,
   "id": "e0af1964",
   "metadata": {
    "execution": {
     "iopub.execute_input": "2023-07-06T20:18:15.140996Z",
     "iopub.status.busy": "2023-07-06T20:18:15.139894Z",
     "iopub.status.idle": "2023-07-06T20:18:15.154737Z",
     "shell.execute_reply": "2023-07-06T20:18:15.153674Z"
    },
    "papermill": {
     "duration": 0.062272,
     "end_time": "2023-07-06T20:18:15.156964",
     "exception": false,
     "start_time": "2023-07-06T20:18:15.094692",
     "status": "completed"
    },
    "tags": []
   },
   "outputs": [
    {
     "data": {
      "text/html": [
       "<div>\n",
       "<style scoped>\n",
       "    .dataframe tbody tr th:only-of-type {\n",
       "        vertical-align: middle;\n",
       "    }\n",
       "\n",
       "    .dataframe tbody tr th {\n",
       "        vertical-align: top;\n",
       "    }\n",
       "\n",
       "    .dataframe thead th {\n",
       "        text-align: right;\n",
       "    }\n",
       "</style>\n",
       "<table border=\"1\" class=\"dataframe\">\n",
       "  <thead>\n",
       "    <tr style=\"text-align: right;\">\n",
       "      <th></th>\n",
       "      <th>White (%)</th>\n",
       "      <th>Black (%)</th>\n",
       "      <th>Draw (%)</th>\n",
       "    </tr>\n",
       "  </thead>\n",
       "  <tbody>\n",
       "    <tr>\n",
       "      <th>Slav Defense</th>\n",
       "      <td>46.25</td>\n",
       "      <td>46.25</td>\n",
       "      <td>7.50</td>\n",
       "    </tr>\n",
       "    <tr>\n",
       "      <th>Nimzowitsch Defense</th>\n",
       "      <td>65.62</td>\n",
       "      <td>30.80</td>\n",
       "      <td>3.57</td>\n",
       "    </tr>\n",
       "    <tr>\n",
       "      <th>King's Pawn Game</th>\n",
       "      <td>47.98</td>\n",
       "      <td>48.09</td>\n",
       "      <td>3.93</td>\n",
       "    </tr>\n",
       "    <tr>\n",
       "      <th>Queen's Pawn Game</th>\n",
       "      <td>46.23</td>\n",
       "      <td>48.82</td>\n",
       "      <td>4.95</td>\n",
       "    </tr>\n",
       "    <tr>\n",
       "      <th>Philidor Defense</th>\n",
       "      <td>57.31</td>\n",
       "      <td>38.64</td>\n",
       "      <td>4.05</td>\n",
       "    </tr>\n",
       "    <tr>\n",
       "      <th>...</th>\n",
       "      <td>...</td>\n",
       "      <td>...</td>\n",
       "      <td>...</td>\n",
       "    </tr>\n",
       "    <tr>\n",
       "      <th>King's Indian</th>\n",
       "      <td>66.67</td>\n",
       "      <td>33.33</td>\n",
       "      <td>0.00</td>\n",
       "    </tr>\n",
       "    <tr>\n",
       "      <th>Barnes Opening</th>\n",
       "      <td>50.00</td>\n",
       "      <td>0.00</td>\n",
       "      <td>50.00</td>\n",
       "    </tr>\n",
       "    <tr>\n",
       "      <th>Canard Opening</th>\n",
       "      <td>50.00</td>\n",
       "      <td>50.00</td>\n",
       "      <td>0.00</td>\n",
       "    </tr>\n",
       "    <tr>\n",
       "      <th>Pterodactyl Defense</th>\n",
       "      <td>100.00</td>\n",
       "      <td>0.00</td>\n",
       "      <td>0.00</td>\n",
       "    </tr>\n",
       "    <tr>\n",
       "      <th>Rubinstein Opening</th>\n",
       "      <td>100.00</td>\n",
       "      <td>0.00</td>\n",
       "      <td>0.00</td>\n",
       "    </tr>\n",
       "  </tbody>\n",
       "</table>\n",
       "<p>128 rows × 3 columns</p>\n",
       "</div>"
      ],
      "text/plain": [
       "                     White (%)  Black (%)  Draw (%)\n",
       "Slav Defense             46.25      46.25      7.50\n",
       "Nimzowitsch Defense      65.62      30.80      3.57\n",
       "King's Pawn Game         47.98      48.09      3.93\n",
       "Queen's Pawn Game        46.23      48.82      4.95\n",
       "Philidor Defense         57.31      38.64      4.05\n",
       "...                        ...        ...       ...\n",
       "King's Indian            66.67      33.33      0.00\n",
       "Barnes Opening           50.00       0.00     50.00\n",
       "Canard Opening           50.00      50.00      0.00\n",
       "Pterodactyl Defense     100.00       0.00      0.00\n",
       "Rubinstein Opening      100.00       0.00      0.00\n",
       "\n",
       "[128 rows x 3 columns]"
      ]
     },
     "execution_count": 80,
     "metadata": {},
     "output_type": "execute_result"
    }
   ],
   "source": [
    "result_by_opening"
   ]
  },
  {
   "cell_type": "code",
   "execution_count": 81,
   "id": "f56d988e",
   "metadata": {
    "execution": {
     "iopub.execute_input": "2023-07-06T20:18:15.248034Z",
     "iopub.status.busy": "2023-07-06T20:18:15.247614Z",
     "iopub.status.idle": "2023-07-06T20:18:15.259060Z",
     "shell.execute_reply": "2023-07-06T20:18:15.258143Z"
    },
    "papermill": {
     "duration": 0.059421,
     "end_time": "2023-07-06T20:18:15.261077",
     "exception": false,
     "start_time": "2023-07-06T20:18:15.201656",
     "status": "completed"
    },
    "tags": []
   },
   "outputs": [
    {
     "data": {
      "text/html": [
       "<div>\n",
       "<style scoped>\n",
       "    .dataframe tbody tr th:only-of-type {\n",
       "        vertical-align: middle;\n",
       "    }\n",
       "\n",
       "    .dataframe tbody tr th {\n",
       "        vertical-align: top;\n",
       "    }\n",
       "\n",
       "    .dataframe thead th {\n",
       "        text-align: right;\n",
       "    }\n",
       "</style>\n",
       "<table border=\"1\" class=\"dataframe\">\n",
       "  <thead>\n",
       "    <tr style=\"text-align: right;\">\n",
       "      <th></th>\n",
       "      <th>White (%)</th>\n",
       "      <th>Black (%)</th>\n",
       "      <th>Draw (%)</th>\n",
       "    </tr>\n",
       "  </thead>\n",
       "  <tbody>\n",
       "    <tr>\n",
       "      <th>Intermediate</th>\n",
       "      <td>50.38</td>\n",
       "      <td>45.42</td>\n",
       "      <td>4.20</td>\n",
       "    </tr>\n",
       "    <tr>\n",
       "      <th>Beginner</th>\n",
       "      <td>50.04</td>\n",
       "      <td>44.84</td>\n",
       "      <td>5.12</td>\n",
       "    </tr>\n",
       "    <tr>\n",
       "      <th>Advanced</th>\n",
       "      <td>48.35</td>\n",
       "      <td>45.70</td>\n",
       "      <td>5.95</td>\n",
       "    </tr>\n",
       "    <tr>\n",
       "      <th>Expert</th>\n",
       "      <td>44.44</td>\n",
       "      <td>42.59</td>\n",
       "      <td>12.96</td>\n",
       "    </tr>\n",
       "  </tbody>\n",
       "</table>\n",
       "</div>"
      ],
      "text/plain": [
       "              White (%)  Black (%)  Draw (%)\n",
       "Intermediate      50.38      45.42      4.20\n",
       "Beginner          50.04      44.84      5.12\n",
       "Advanced          48.35      45.70      5.95\n",
       "Expert            44.44      42.59     12.96"
      ]
     },
     "execution_count": 81,
     "metadata": {},
     "output_type": "execute_result"
    }
   ],
   "source": [
    "result_by_skill"
   ]
  },
  {
   "cell_type": "markdown",
   "id": "1a2fc847",
   "metadata": {
    "papermill": {
     "duration": 0.043613,
     "end_time": "2023-07-06T20:18:15.348992",
     "exception": false,
     "start_time": "2023-07-06T20:18:15.305379",
     "status": "completed"
    },
    "tags": []
   },
   "source": [
    "* result_by_skill:\n",
    "    * There are more definitive games at the beginner level\n",
    "    * There are more drawn games at the expert level\n",
    "    * The player with the white pieces are slightly more likely to win the game compared to the player with the black pieces\n",
    "    \n",
    "After all the EDA, we conducted some data cleaning by getting rid of the following features:\n",
    "* game_id\n",
    "* white_id\n",
    "* black_id\n",
    "* moves\n",
    "* opening_code\n",
    "* opening_fullname\n",
    "* opening_response\n",
    "* opening_variation\n",
    "* opening_moves\n",
    "* average_rating (that we created)\n",
    "* skill_level (that we created)\n",
    "\n",
    "Then, we created dummy variables for the remaining categorical features so that they can be used in creating a model. Here are the categorical variables that we converted into dummy variables:\n",
    "* victory_status\n",
    "* rated\n",
    "* opening_shortname\n",
    "* time_increment (after we split them into bullet, blitz, rapid, and classical)\n",
    "\n",
    "Finally, we created a Decision Tree Classifier to classify the results of the games. This is done through training the model using the data that we cleaned with the \"winner\" feature being the targeted feature. This means that we used all the other features that are not the \"winner\" feature to predict the \"winner\" feature, i.e. the outcome/result of that specific game. With the Decision Tree model, we managed to create a model that can predict the outcomes of a game at a 63% accuracy should we provide the model with the necessary predictor features. \n",
    "\n",
    "As mentioned before, though a 63% accuracy may not seem as much, I believe that it is quite high for a chess game predicion model as chess games are highly dependent on the players themselves and how they play which can change from game to game.\n",
    "\n",
    "# Thank you!!!\n",
    "\n",
    "Hope you enjoyed this analysis and please feel free to check out more of my notebooks on my profile. Have a good day :)"
   ]
  }
 ],
 "metadata": {
  "kernelspec": {
   "display_name": "Python 3",
   "language": "python",
   "name": "python3"
  },
  "language_info": {
   "codemirror_mode": {
    "name": "ipython",
    "version": 3
   },
   "file_extension": ".py",
   "mimetype": "text/x-python",
   "name": "python",
   "nbconvert_exporter": "python",
   "pygments_lexer": "ipython3",
   "version": "3.10.10"
  },
  "papermill": {
   "default_parameters": {},
   "duration": 32.287457,
   "end_time": "2023-07-06T20:18:16.414559",
   "environment_variables": {},
   "exception": null,
   "input_path": "__notebook__.ipynb",
   "output_path": "__notebook__.ipynb",
   "parameters": {},
   "start_time": "2023-07-06T20:17:44.127102",
   "version": "2.4.0"
  }
 },
 "nbformat": 4,
 "nbformat_minor": 5
}
